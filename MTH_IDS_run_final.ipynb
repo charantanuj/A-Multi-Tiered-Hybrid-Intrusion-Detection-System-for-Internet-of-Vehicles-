{
  "cells": [
    {
      "cell_type": "markdown",
      "metadata": {
        "id": "FX-iC2qVM3n3"
      },
      "source": [
        "## Import libraries"
      ]
    },
    {
      "cell_type": "code",
      "execution_count": null,
      "metadata": {
        "id": "-43S7zihM3n4"
      },
      "outputs": [],
      "source": [
        "import warnings\n",
        "warnings.filterwarnings(\"ignore\")"
      ]
    },
    {
      "cell_type": "code",
      "execution_count": null,
      "metadata": {
        "id": "tIiRHzDGM3n8"
      },
      "outputs": [],
      "source": [
        "import numpy as np\n",
        "import pandas as pd\n",
        "import seaborn as sns\n",
        "import matplotlib.pyplot as plt\n",
        "from sklearn.preprocessing import LabelEncoder\n",
        "from sklearn.model_selection import train_test_split\n",
        "from sklearn.metrics import classification_report,confusion_matrix,accuracy_score,precision_recall_fscore_support\n",
        "from sklearn.metrics import f1_score,roc_auc_score\n",
        "from sklearn.ensemble import RandomForestClassifier,ExtraTreesClassifier\n",
        "from sklearn.tree import DecisionTreeClassifier\n",
        "import xgboost as xgb\n",
        "from xgboost import plot_importance"
      ]
    },
    {
      "cell_type": "code",
      "source": [
        "df = pd.read_csv('CICIDS2017_sample.csv') "
      ],
      "metadata": {
        "id": "fzlunp7QOvVg"
      },
      "execution_count": null,
      "outputs": []
    },
    {
      "cell_type": "code",
      "source": [
        "df"
      ],
      "metadata": {
        "colab": {
          "base_uri": "https://localhost:8080/",
          "height": 540
        },
        "id": "-DlN_8kBPgru",
        "outputId": "546a698e-4937-47c2-fd30-8ef30caa0675"
      },
      "execution_count": null,
      "outputs": [
        {
          "output_type": "execute_result",
          "data": {
            "text/plain": [
              "       Flow Duration  Total Fwd Packets  Total Backward Packets  \\\n",
              "0                  4                  2                       0   \n",
              "1             142377                 46                      62   \n",
              "2             118873                 23                      28   \n",
              "3             143577                 43                      55   \n",
              "4             143745                 49                      59   \n",
              "...              ...                ...                     ...   \n",
              "56656            234                  2                       2   \n",
              "56657         133288                  2                       2   \n",
              "56658       11507694                  5                       4   \n",
              "56659       11507707                  8                       6   \n",
              "56660       11512204                  8                       5   \n",
              "\n",
              "       Total Length of Fwd Packets  Total Length of Bwd Packets  \\\n",
              "0                               37                            0   \n",
              "1                             1325                       105855   \n",
              "2                             1169                        45025   \n",
              "3                             1301                       107289   \n",
              "4                             1331                       110185   \n",
              "...                            ...                          ...   \n",
              "56656                           64                          232   \n",
              "56657                           94                          482   \n",
              "56658                          450                         3525   \n",
              "56659                          416                        11632   \n",
              "56660                          326                        11632   \n",
              "\n",
              "       Fwd Packet Length Max  Fwd Packet Length Min  Fwd Packet Length Mean  \\\n",
              "0                         31                      6               18.500000   \n",
              "1                        570                      0               28.804348   \n",
              "2                        570                      0               50.826087   \n",
              "3                        570                      0               30.255814   \n",
              "4                        570                      0               27.163265   \n",
              "...                      ...                    ...                     ...   \n",
              "56656                     32                     32               32.000000   \n",
              "56657                     47                     47               47.000000   \n",
              "56658                    450                      0               90.000000   \n",
              "56659                    416                      0               52.000000   \n",
              "56660                    326                      0               40.750000   \n",
              "\n",
              "       Fwd Packet Length Std  Bwd Packet Length Max  ...  \\\n",
              "0                  17.677670                      0  ...   \n",
              "1                 111.407285                   4344  ...   \n",
              "2                 156.137367                   2896  ...   \n",
              "3                 115.178969                   4344  ...   \n",
              "4                 108.067176                   4344  ...   \n",
              "...                      ...                    ...  ...   \n",
              "56656               0.000000                    116  ...   \n",
              "56657               0.000000                    241  ...   \n",
              "56658             201.246118                   3525  ...   \n",
              "56659             147.078211                   5792  ...   \n",
              "56660             115.258405                  10184  ...   \n",
              "\n",
              "       min_seg_size_forward  Active Mean  Active Std  Active Max  Active Min  \\\n",
              "0                        20          0.0         0.0           0           0   \n",
              "1                        20          0.0         0.0           0           0   \n",
              "2                        32          0.0         0.0           0           0   \n",
              "3                        20          0.0         0.0           0           0   \n",
              "4                        20          0.0         0.0           0           0   \n",
              "...                     ...          ...         ...         ...         ...   \n",
              "56656                    32          0.0         0.0           0           0   \n",
              "56657                    32          0.0         0.0           0           0   \n",
              "56658                    32        893.0         0.0         893         893   \n",
              "56659                    32        897.0         0.0         897         897   \n",
              "56660                    32        892.0         0.0         892         892   \n",
              "\n",
              "       Idle Mean  Idle Std  Idle Max  Idle Min   Label  \n",
              "0            0.0       0.0         0         0  BENIGN  \n",
              "1            0.0       0.0         0         0  BENIGN  \n",
              "2            0.0       0.0         0         0  BENIGN  \n",
              "3            0.0       0.0         0         0  BENIGN  \n",
              "4            0.0       0.0         0         0  BENIGN  \n",
              "...          ...       ...       ...       ...     ...  \n",
              "56656        0.0       0.0         0         0  BENIGN  \n",
              "56657        0.0       0.0         0         0  BENIGN  \n",
              "56658  6503640.0       0.0   6503640   6503640     DoS  \n",
              "56659  6503122.0       0.0   6503122   6503122     DoS  \n",
              "56660  6507197.0       0.0   6507197   6507197     DoS  \n",
              "\n",
              "[56661 rows x 78 columns]"
            ],
            "text/html": [
              "\n",
              "  <div id=\"df-5658cc67-7502-466e-a21b-1b2169167efe\">\n",
              "    <div class=\"colab-df-container\">\n",
              "      <div>\n",
              "<style scoped>\n",
              "    .dataframe tbody tr th:only-of-type {\n",
              "        vertical-align: middle;\n",
              "    }\n",
              "\n",
              "    .dataframe tbody tr th {\n",
              "        vertical-align: top;\n",
              "    }\n",
              "\n",
              "    .dataframe thead th {\n",
              "        text-align: right;\n",
              "    }\n",
              "</style>\n",
              "<table border=\"1\" class=\"dataframe\">\n",
              "  <thead>\n",
              "    <tr style=\"text-align: right;\">\n",
              "      <th></th>\n",
              "      <th>Flow Duration</th>\n",
              "      <th>Total Fwd Packets</th>\n",
              "      <th>Total Backward Packets</th>\n",
              "      <th>Total Length of Fwd Packets</th>\n",
              "      <th>Total Length of Bwd Packets</th>\n",
              "      <th>Fwd Packet Length Max</th>\n",
              "      <th>Fwd Packet Length Min</th>\n",
              "      <th>Fwd Packet Length Mean</th>\n",
              "      <th>Fwd Packet Length Std</th>\n",
              "      <th>Bwd Packet Length Max</th>\n",
              "      <th>...</th>\n",
              "      <th>min_seg_size_forward</th>\n",
              "      <th>Active Mean</th>\n",
              "      <th>Active Std</th>\n",
              "      <th>Active Max</th>\n",
              "      <th>Active Min</th>\n",
              "      <th>Idle Mean</th>\n",
              "      <th>Idle Std</th>\n",
              "      <th>Idle Max</th>\n",
              "      <th>Idle Min</th>\n",
              "      <th>Label</th>\n",
              "    </tr>\n",
              "  </thead>\n",
              "  <tbody>\n",
              "    <tr>\n",
              "      <th>0</th>\n",
              "      <td>4</td>\n",
              "      <td>2</td>\n",
              "      <td>0</td>\n",
              "      <td>37</td>\n",
              "      <td>0</td>\n",
              "      <td>31</td>\n",
              "      <td>6</td>\n",
              "      <td>18.500000</td>\n",
              "      <td>17.677670</td>\n",
              "      <td>0</td>\n",
              "      <td>...</td>\n",
              "      <td>20</td>\n",
              "      <td>0.0</td>\n",
              "      <td>0.0</td>\n",
              "      <td>0</td>\n",
              "      <td>0</td>\n",
              "      <td>0.0</td>\n",
              "      <td>0.0</td>\n",
              "      <td>0</td>\n",
              "      <td>0</td>\n",
              "      <td>BENIGN</td>\n",
              "    </tr>\n",
              "    <tr>\n",
              "      <th>1</th>\n",
              "      <td>142377</td>\n",
              "      <td>46</td>\n",
              "      <td>62</td>\n",
              "      <td>1325</td>\n",
              "      <td>105855</td>\n",
              "      <td>570</td>\n",
              "      <td>0</td>\n",
              "      <td>28.804348</td>\n",
              "      <td>111.407285</td>\n",
              "      <td>4344</td>\n",
              "      <td>...</td>\n",
              "      <td>20</td>\n",
              "      <td>0.0</td>\n",
              "      <td>0.0</td>\n",
              "      <td>0</td>\n",
              "      <td>0</td>\n",
              "      <td>0.0</td>\n",
              "      <td>0.0</td>\n",
              "      <td>0</td>\n",
              "      <td>0</td>\n",
              "      <td>BENIGN</td>\n",
              "    </tr>\n",
              "    <tr>\n",
              "      <th>2</th>\n",
              "      <td>118873</td>\n",
              "      <td>23</td>\n",
              "      <td>28</td>\n",
              "      <td>1169</td>\n",
              "      <td>45025</td>\n",
              "      <td>570</td>\n",
              "      <td>0</td>\n",
              "      <td>50.826087</td>\n",
              "      <td>156.137367</td>\n",
              "      <td>2896</td>\n",
              "      <td>...</td>\n",
              "      <td>32</td>\n",
              "      <td>0.0</td>\n",
              "      <td>0.0</td>\n",
              "      <td>0</td>\n",
              "      <td>0</td>\n",
              "      <td>0.0</td>\n",
              "      <td>0.0</td>\n",
              "      <td>0</td>\n",
              "      <td>0</td>\n",
              "      <td>BENIGN</td>\n",
              "    </tr>\n",
              "    <tr>\n",
              "      <th>3</th>\n",
              "      <td>143577</td>\n",
              "      <td>43</td>\n",
              "      <td>55</td>\n",
              "      <td>1301</td>\n",
              "      <td>107289</td>\n",
              "      <td>570</td>\n",
              "      <td>0</td>\n",
              "      <td>30.255814</td>\n",
              "      <td>115.178969</td>\n",
              "      <td>4344</td>\n",
              "      <td>...</td>\n",
              "      <td>20</td>\n",
              "      <td>0.0</td>\n",
              "      <td>0.0</td>\n",
              "      <td>0</td>\n",
              "      <td>0</td>\n",
              "      <td>0.0</td>\n",
              "      <td>0.0</td>\n",
              "      <td>0</td>\n",
              "      <td>0</td>\n",
              "      <td>BENIGN</td>\n",
              "    </tr>\n",
              "    <tr>\n",
              "      <th>4</th>\n",
              "      <td>143745</td>\n",
              "      <td>49</td>\n",
              "      <td>59</td>\n",
              "      <td>1331</td>\n",
              "      <td>110185</td>\n",
              "      <td>570</td>\n",
              "      <td>0</td>\n",
              "      <td>27.163265</td>\n",
              "      <td>108.067176</td>\n",
              "      <td>4344</td>\n",
              "      <td>...</td>\n",
              "      <td>20</td>\n",
              "      <td>0.0</td>\n",
              "      <td>0.0</td>\n",
              "      <td>0</td>\n",
              "      <td>0</td>\n",
              "      <td>0.0</td>\n",
              "      <td>0.0</td>\n",
              "      <td>0</td>\n",
              "      <td>0</td>\n",
              "      <td>BENIGN</td>\n",
              "    </tr>\n",
              "    <tr>\n",
              "      <th>...</th>\n",
              "      <td>...</td>\n",
              "      <td>...</td>\n",
              "      <td>...</td>\n",
              "      <td>...</td>\n",
              "      <td>...</td>\n",
              "      <td>...</td>\n",
              "      <td>...</td>\n",
              "      <td>...</td>\n",
              "      <td>...</td>\n",
              "      <td>...</td>\n",
              "      <td>...</td>\n",
              "      <td>...</td>\n",
              "      <td>...</td>\n",
              "      <td>...</td>\n",
              "      <td>...</td>\n",
              "      <td>...</td>\n",
              "      <td>...</td>\n",
              "      <td>...</td>\n",
              "      <td>...</td>\n",
              "      <td>...</td>\n",
              "      <td>...</td>\n",
              "    </tr>\n",
              "    <tr>\n",
              "      <th>56656</th>\n",
              "      <td>234</td>\n",
              "      <td>2</td>\n",
              "      <td>2</td>\n",
              "      <td>64</td>\n",
              "      <td>232</td>\n",
              "      <td>32</td>\n",
              "      <td>32</td>\n",
              "      <td>32.000000</td>\n",
              "      <td>0.000000</td>\n",
              "      <td>116</td>\n",
              "      <td>...</td>\n",
              "      <td>32</td>\n",
              "      <td>0.0</td>\n",
              "      <td>0.0</td>\n",
              "      <td>0</td>\n",
              "      <td>0</td>\n",
              "      <td>0.0</td>\n",
              "      <td>0.0</td>\n",
              "      <td>0</td>\n",
              "      <td>0</td>\n",
              "      <td>BENIGN</td>\n",
              "    </tr>\n",
              "    <tr>\n",
              "      <th>56657</th>\n",
              "      <td>133288</td>\n",
              "      <td>2</td>\n",
              "      <td>2</td>\n",
              "      <td>94</td>\n",
              "      <td>482</td>\n",
              "      <td>47</td>\n",
              "      <td>47</td>\n",
              "      <td>47.000000</td>\n",
              "      <td>0.000000</td>\n",
              "      <td>241</td>\n",
              "      <td>...</td>\n",
              "      <td>32</td>\n",
              "      <td>0.0</td>\n",
              "      <td>0.0</td>\n",
              "      <td>0</td>\n",
              "      <td>0</td>\n",
              "      <td>0.0</td>\n",
              "      <td>0.0</td>\n",
              "      <td>0</td>\n",
              "      <td>0</td>\n",
              "      <td>BENIGN</td>\n",
              "    </tr>\n",
              "    <tr>\n",
              "      <th>56658</th>\n",
              "      <td>11507694</td>\n",
              "      <td>5</td>\n",
              "      <td>4</td>\n",
              "      <td>450</td>\n",
              "      <td>3525</td>\n",
              "      <td>450</td>\n",
              "      <td>0</td>\n",
              "      <td>90.000000</td>\n",
              "      <td>201.246118</td>\n",
              "      <td>3525</td>\n",
              "      <td>...</td>\n",
              "      <td>32</td>\n",
              "      <td>893.0</td>\n",
              "      <td>0.0</td>\n",
              "      <td>893</td>\n",
              "      <td>893</td>\n",
              "      <td>6503640.0</td>\n",
              "      <td>0.0</td>\n",
              "      <td>6503640</td>\n",
              "      <td>6503640</td>\n",
              "      <td>DoS</td>\n",
              "    </tr>\n",
              "    <tr>\n",
              "      <th>56659</th>\n",
              "      <td>11507707</td>\n",
              "      <td>8</td>\n",
              "      <td>6</td>\n",
              "      <td>416</td>\n",
              "      <td>11632</td>\n",
              "      <td>416</td>\n",
              "      <td>0</td>\n",
              "      <td>52.000000</td>\n",
              "      <td>147.078211</td>\n",
              "      <td>5792</td>\n",
              "      <td>...</td>\n",
              "      <td>32</td>\n",
              "      <td>897.0</td>\n",
              "      <td>0.0</td>\n",
              "      <td>897</td>\n",
              "      <td>897</td>\n",
              "      <td>6503122.0</td>\n",
              "      <td>0.0</td>\n",
              "      <td>6503122</td>\n",
              "      <td>6503122</td>\n",
              "      <td>DoS</td>\n",
              "    </tr>\n",
              "    <tr>\n",
              "      <th>56660</th>\n",
              "      <td>11512204</td>\n",
              "      <td>8</td>\n",
              "      <td>5</td>\n",
              "      <td>326</td>\n",
              "      <td>11632</td>\n",
              "      <td>326</td>\n",
              "      <td>0</td>\n",
              "      <td>40.750000</td>\n",
              "      <td>115.258405</td>\n",
              "      <td>10184</td>\n",
              "      <td>...</td>\n",
              "      <td>32</td>\n",
              "      <td>892.0</td>\n",
              "      <td>0.0</td>\n",
              "      <td>892</td>\n",
              "      <td>892</td>\n",
              "      <td>6507197.0</td>\n",
              "      <td>0.0</td>\n",
              "      <td>6507197</td>\n",
              "      <td>6507197</td>\n",
              "      <td>DoS</td>\n",
              "    </tr>\n",
              "  </tbody>\n",
              "</table>\n",
              "<p>56661 rows × 78 columns</p>\n",
              "</div>\n",
              "      <button class=\"colab-df-convert\" onclick=\"convertToInteractive('df-5658cc67-7502-466e-a21b-1b2169167efe')\"\n",
              "              title=\"Convert this dataframe to an interactive table.\"\n",
              "              style=\"display:none;\">\n",
              "        \n",
              "  <svg xmlns=\"http://www.w3.org/2000/svg\" height=\"24px\"viewBox=\"0 0 24 24\"\n",
              "       width=\"24px\">\n",
              "    <path d=\"M0 0h24v24H0V0z\" fill=\"none\"/>\n",
              "    <path d=\"M18.56 5.44l.94 2.06.94-2.06 2.06-.94-2.06-.94-.94-2.06-.94 2.06-2.06.94zm-11 1L8.5 8.5l.94-2.06 2.06-.94-2.06-.94L8.5 2.5l-.94 2.06-2.06.94zm10 10l.94 2.06.94-2.06 2.06-.94-2.06-.94-.94-2.06-.94 2.06-2.06.94z\"/><path d=\"M17.41 7.96l-1.37-1.37c-.4-.4-.92-.59-1.43-.59-.52 0-1.04.2-1.43.59L10.3 9.45l-7.72 7.72c-.78.78-.78 2.05 0 2.83L4 21.41c.39.39.9.59 1.41.59.51 0 1.02-.2 1.41-.59l7.78-7.78 2.81-2.81c.8-.78.8-2.07 0-2.86zM5.41 20L4 18.59l7.72-7.72 1.47 1.35L5.41 20z\"/>\n",
              "  </svg>\n",
              "      </button>\n",
              "      \n",
              "  <style>\n",
              "    .colab-df-container {\n",
              "      display:flex;\n",
              "      flex-wrap:wrap;\n",
              "      gap: 12px;\n",
              "    }\n",
              "\n",
              "    .colab-df-convert {\n",
              "      background-color: #E8F0FE;\n",
              "      border: none;\n",
              "      border-radius: 50%;\n",
              "      cursor: pointer;\n",
              "      display: none;\n",
              "      fill: #1967D2;\n",
              "      height: 32px;\n",
              "      padding: 0 0 0 0;\n",
              "      width: 32px;\n",
              "    }\n",
              "\n",
              "    .colab-df-convert:hover {\n",
              "      background-color: #E2EBFA;\n",
              "      box-shadow: 0px 1px 2px rgba(60, 64, 67, 0.3), 0px 1px 3px 1px rgba(60, 64, 67, 0.15);\n",
              "      fill: #174EA6;\n",
              "    }\n",
              "\n",
              "    [theme=dark] .colab-df-convert {\n",
              "      background-color: #3B4455;\n",
              "      fill: #D2E3FC;\n",
              "    }\n",
              "\n",
              "    [theme=dark] .colab-df-convert:hover {\n",
              "      background-color: #434B5C;\n",
              "      box-shadow: 0px 1px 3px 1px rgba(0, 0, 0, 0.15);\n",
              "      filter: drop-shadow(0px 1px 2px rgba(0, 0, 0, 0.3));\n",
              "      fill: #FFFFFF;\n",
              "    }\n",
              "  </style>\n",
              "\n",
              "      <script>\n",
              "        const buttonEl =\n",
              "          document.querySelector('#df-5658cc67-7502-466e-a21b-1b2169167efe button.colab-df-convert');\n",
              "        buttonEl.style.display =\n",
              "          google.colab.kernel.accessAllowed ? 'block' : 'none';\n",
              "\n",
              "        async function convertToInteractive(key) {\n",
              "          const element = document.querySelector('#df-5658cc67-7502-466e-a21b-1b2169167efe');\n",
              "          const dataTable =\n",
              "            await google.colab.kernel.invokeFunction('convertToInteractive',\n",
              "                                                     [key], {});\n",
              "          if (!dataTable) return;\n",
              "\n",
              "          const docLinkHtml = 'Like what you see? Visit the ' +\n",
              "            '<a target=\"_blank\" href=https://colab.research.google.com/notebooks/data_table.ipynb>data table notebook</a>'\n",
              "            + ' to learn more about interactive tables.';\n",
              "          element.innerHTML = '';\n",
              "          dataTable['output_type'] = 'display_data';\n",
              "          await google.colab.output.renderOutput(dataTable, element);\n",
              "          const docLink = document.createElement('div');\n",
              "          docLink.innerHTML = docLinkHtml;\n",
              "          element.appendChild(docLink);\n",
              "        }\n",
              "      </script>\n",
              "    </div>\n",
              "  </div>\n",
              "  "
            ]
          },
          "metadata": {},
          "execution_count": 4
        }
      ]
    },
    {
      "cell_type": "code",
      "source": [
        "df.Label.value_counts()"
      ],
      "metadata": {
        "colab": {
          "base_uri": "https://localhost:8080/"
        },
        "id": "M8mWUQd0PqyV",
        "outputId": "a4a6e805-bb57-4939-eee6-027978d8b143"
      },
      "execution_count": null,
      "outputs": [
        {
          "output_type": "execute_result",
          "data": {
            "text/plain": [
              "BENIGN          22731\n",
              "DoS             19035\n",
              "PortScan         7946\n",
              "BruteForce       2767\n",
              "WebAttack        2180\n",
              "Bot              1966\n",
              "Infiltration       36\n",
              "Name: Label, dtype: int64"
            ]
          },
          "metadata": {},
          "execution_count": 5
        }
      ]
    },
    {
      "cell_type": "markdown",
      "metadata": {
        "id": "_1wTCZX2M3oG"
      },
      "source": [
        "### Preprocessing (normalization and padding values)"
      ]
    },
    {
      "cell_type": "code",
      "execution_count": null,
      "metadata": {
        "id": "vQ8_yObXM3oH"
      },
      "outputs": [],
      "source": [
        "# Z-score normalization\n",
        "features = df.dtypes[df.dtypes != 'object'].index\n",
        "df[features] = df[features].apply(\n",
        "    lambda x: (x - x.mean()) / (x.std()))\n",
        "# Fill empty values by 0\n",
        "df = df.fillna(0)"
      ]
    },
    {
      "cell_type": "markdown",
      "metadata": {
        "id": "i2v1BwCyM3oI"
      },
      "source": [
        "### Data sampling\n"
      ]
    },
    {
      "cell_type": "code",
      "execution_count": null,
      "metadata": {
        "id": "4k2QfMGmM3oI"
      },
      "outputs": [],
      "source": [
        "labelencoder = LabelEncoder()\n",
        "df.iloc[:, -1] = labelencoder.fit_transform(df.iloc[:, -1])"
      ]
    },
    {
      "cell_type": "code",
      "execution_count": null,
      "metadata": {
        "colab": {
          "base_uri": "https://localhost:8080/"
        },
        "id": "oMou0N4iM3oJ",
        "outputId": "5bd41692-b339-4596-8477-ef98538c5e86"
      },
      "outputs": [
        {
          "output_type": "execute_result",
          "data": {
            "text/plain": [
              "0    22731\n",
              "3    19035\n",
              "5     7946\n",
              "2     2767\n",
              "6     2180\n",
              "1     1966\n",
              "4       36\n",
              "Name: Label, dtype: int64"
            ]
          },
          "metadata": {},
          "execution_count": 8
        }
      ],
      "source": [
        "df.Label.value_counts()"
      ]
    },
    {
      "cell_type": "code",
      "execution_count": null,
      "metadata": {
        "id": "pMPzYJDfM3oK"
      },
      "outputs": [],
      "source": [
        "# retain the minority class instances and sample the majority class instances\n",
        "df_minor = df[(df['Label']==6)|(df['Label']==1)|(df['Label']==4)]\n",
        "df_major = df.drop(df_minor.index)"
      ]
    },
    {
      "cell_type": "code",
      "execution_count": null,
      "metadata": {
        "id": "dQapCjDWM3oK"
      },
      "outputs": [],
      "source": [
        "X = df_major.drop(['Label'],axis=1) \n",
        "y = df_major.iloc[:, -1].values.reshape(-1,1)\n",
        "y=np.ravel(y)"
      ]
    },
    {
      "cell_type": "code",
      "execution_count": null,
      "metadata": {
        "scrolled": true,
        "id": "42RE0-wpM3oL"
      },
      "outputs": [],
      "source": [
        "# use k-means to cluster the data samples and select a proportion of data from each cluster\n",
        "from sklearn.cluster import MiniBatchKMeans\n",
        "kmeans = MiniBatchKMeans(n_clusters=1000, random_state=0).fit(X)"
      ]
    },
    {
      "cell_type": "code",
      "execution_count": null,
      "metadata": {
        "id": "xpXM6_I-M3oL"
      },
      "outputs": [],
      "source": [
        "klabel=kmeans.labels_\n",
        "df_major['klabel']=klabel"
      ]
    },
    {
      "cell_type": "code",
      "execution_count": null,
      "metadata": {
        "scrolled": true,
        "colab": {
          "base_uri": "https://localhost:8080/"
        },
        "id": "EQ-LMCISM3oM",
        "outputId": "67f31929-31eb-4b2b-fafb-05b7c618b977"
      },
      "outputs": [
        {
          "output_type": "execute_result",
          "data": {
            "text/plain": [
              "451    546\n",
              "613    487\n",
              "79     369\n",
              "487    348\n",
              "257    332\n",
              "      ... \n",
              "776      2\n",
              "397      2\n",
              "670      2\n",
              "12       1\n",
              "159      1\n",
              "Name: klabel, Length: 986, dtype: int64"
            ]
          },
          "metadata": {},
          "execution_count": 13
        }
      ],
      "source": [
        "df_major['klabel'].value_counts()"
      ]
    },
    {
      "cell_type": "code",
      "execution_count": null,
      "metadata": {
        "id": "6Df0EqMaM3oM"
      },
      "outputs": [],
      "source": [
        "cols = list(df_major)\n",
        "cols.insert(78, cols.pop(cols.index('Label')))\n",
        "df_major = df_major.loc[:, cols]"
      ]
    },
    {
      "cell_type": "code",
      "execution_count": null,
      "metadata": {
        "scrolled": true,
        "colab": {
          "base_uri": "https://localhost:8080/",
          "height": 540
        },
        "id": "7cFWFZgoM3oN",
        "outputId": "dfecb021-cabd-424d-d390-ecaf64a1ff1f"
      },
      "outputs": [
        {
          "output_type": "execute_result",
          "data": {
            "text/plain": [
              "       Flow Duration  Total Fwd Packets  Total Backward Packets  \\\n",
              "0          -0.528470          -0.068426               -0.081806   \n",
              "1          -0.524593           0.704878                0.850340   \n",
              "2          -0.525233           0.300651                0.339163   \n",
              "3          -0.524560           0.652153                0.745098   \n",
              "4          -0.524555           0.757604                0.805237   \n",
              "...              ...                ...                     ...   \n",
              "56656      -0.528463          -0.068426               -0.051737   \n",
              "56657      -0.524840          -0.068426               -0.051737   \n",
              "56658      -0.215111          -0.015701               -0.021667   \n",
              "56659      -0.215111           0.037025                0.008402   \n",
              "56660      -0.214989           0.037025               -0.006633   \n",
              "\n",
              "       Total Length of Fwd Packets  Total Length of Bwd Packets  \\\n",
              "0                        -0.032573                    -0.048343   \n",
              "1                         0.027749                     0.920410   \n",
              "2                         0.020443                     0.363712   \n",
              "3                         0.026625                     0.933533   \n",
              "4                         0.028030                     0.960037   \n",
              "...                            ...                          ...   \n",
              "56656                    -0.031309                    -0.046220   \n",
              "56657                    -0.029904                    -0.043932   \n",
              "56658                    -0.013231                    -0.016083   \n",
              "56659                    -0.014823                     0.058109   \n",
              "56660                    -0.019038                     0.058109   \n",
              "\n",
              "       Fwd Packet Length Max  Fwd Packet Length Min  Fwd Packet Length Mean  \\\n",
              "0                  -0.202326              -0.085798               -0.141625   \n",
              "1                   0.603275              -0.211174               -0.082434   \n",
              "2                   0.603275              -0.211174                0.044064   \n",
              "3                   0.603275              -0.211174               -0.074097   \n",
              "4                   0.603275              -0.211174               -0.091861   \n",
              "...                      ...                    ...                     ...   \n",
              "56656              -0.200831               0.457498               -0.064078   \n",
              "56657              -0.178412               0.770939                0.022086   \n",
              "56658               0.423920              -0.211174                0.269089   \n",
              "56659               0.373103              -0.211174                0.050807   \n",
              "56660               0.238587              -0.211174               -0.013815   \n",
              "\n",
              "       Fwd Packet Length Std  Bwd Packet Length Max  ...  Active Mean  \\\n",
              "0                  -0.176448              -0.559719  ...    -0.109889   \n",
              "1                   0.240596               1.006302  ...    -0.109889   \n",
              "2                   0.439619               0.484295  ...    -0.109889   \n",
              "3                   0.257378               1.006302  ...    -0.109889   \n",
              "4                   0.225734               1.006302  ...    -0.109889   \n",
              "...                      ...                    ...  ...          ...   \n",
              "56656              -0.255104              -0.517901  ...    -0.109889   \n",
              "56657              -0.255104              -0.472838  ...    -0.109889   \n",
              "56658               0.640328               0.711051  ...    -0.108682   \n",
              "56659               0.399311               1.528310  ...    -0.108677   \n",
              "56660               0.257731               3.111635  ...    -0.108683   \n",
              "\n",
              "       Active Std  Active Max  Active Min  Idle Mean  Idle Std  Idle Max  \\\n",
              "0       -0.081786   -0.128620   -0.094860  -0.458729 -0.137651 -0.466440   \n",
              "1       -0.081786   -0.128620   -0.094860  -0.458729 -0.137651 -0.466440   \n",
              "2       -0.081786   -0.128620   -0.094860  -0.458729 -0.137651 -0.466440   \n",
              "3       -0.081786   -0.128620   -0.094860  -0.458729 -0.137651 -0.466440   \n",
              "4       -0.081786   -0.128620   -0.094860  -0.458729 -0.137651 -0.466440   \n",
              "...           ...         ...         ...        ...       ...       ...   \n",
              "56656   -0.081786   -0.128620   -0.094860  -0.458729 -0.137651 -0.466440   \n",
              "56657   -0.081786   -0.128620   -0.094860  -0.458729 -0.137651 -0.466440   \n",
              "56658   -0.081786   -0.127669   -0.093554  -0.256386 -0.137651 -0.269448   \n",
              "56659   -0.081786   -0.127664   -0.093548  -0.256402 -0.137651 -0.269464   \n",
              "56660   -0.081786   -0.127670   -0.093555  -0.256275 -0.137651 -0.269340   \n",
              "\n",
              "       Idle Min  klabel  Label  \n",
              "0     -0.442057     133      0  \n",
              "1     -0.442057     410      0  \n",
              "2     -0.442057     682      0  \n",
              "3     -0.442057     410      0  \n",
              "4     -0.442057     410      0  \n",
              "...         ...     ...    ...  \n",
              "56656 -0.442057     851      0  \n",
              "56657 -0.442057     976      0  \n",
              "56658 -0.238252     352      3  \n",
              "56659 -0.238268     980      3  \n",
              "56660 -0.238140     328      3  \n",
              "\n",
              "[52479 rows x 79 columns]"
            ],
            "text/html": [
              "\n",
              "  <div id=\"df-8259a59c-44ba-4664-8c00-8ec49cd69afe\">\n",
              "    <div class=\"colab-df-container\">\n",
              "      <div>\n",
              "<style scoped>\n",
              "    .dataframe tbody tr th:only-of-type {\n",
              "        vertical-align: middle;\n",
              "    }\n",
              "\n",
              "    .dataframe tbody tr th {\n",
              "        vertical-align: top;\n",
              "    }\n",
              "\n",
              "    .dataframe thead th {\n",
              "        text-align: right;\n",
              "    }\n",
              "</style>\n",
              "<table border=\"1\" class=\"dataframe\">\n",
              "  <thead>\n",
              "    <tr style=\"text-align: right;\">\n",
              "      <th></th>\n",
              "      <th>Flow Duration</th>\n",
              "      <th>Total Fwd Packets</th>\n",
              "      <th>Total Backward Packets</th>\n",
              "      <th>Total Length of Fwd Packets</th>\n",
              "      <th>Total Length of Bwd Packets</th>\n",
              "      <th>Fwd Packet Length Max</th>\n",
              "      <th>Fwd Packet Length Min</th>\n",
              "      <th>Fwd Packet Length Mean</th>\n",
              "      <th>Fwd Packet Length Std</th>\n",
              "      <th>Bwd Packet Length Max</th>\n",
              "      <th>...</th>\n",
              "      <th>Active Mean</th>\n",
              "      <th>Active Std</th>\n",
              "      <th>Active Max</th>\n",
              "      <th>Active Min</th>\n",
              "      <th>Idle Mean</th>\n",
              "      <th>Idle Std</th>\n",
              "      <th>Idle Max</th>\n",
              "      <th>Idle Min</th>\n",
              "      <th>klabel</th>\n",
              "      <th>Label</th>\n",
              "    </tr>\n",
              "  </thead>\n",
              "  <tbody>\n",
              "    <tr>\n",
              "      <th>0</th>\n",
              "      <td>-0.528470</td>\n",
              "      <td>-0.068426</td>\n",
              "      <td>-0.081806</td>\n",
              "      <td>-0.032573</td>\n",
              "      <td>-0.048343</td>\n",
              "      <td>-0.202326</td>\n",
              "      <td>-0.085798</td>\n",
              "      <td>-0.141625</td>\n",
              "      <td>-0.176448</td>\n",
              "      <td>-0.559719</td>\n",
              "      <td>...</td>\n",
              "      <td>-0.109889</td>\n",
              "      <td>-0.081786</td>\n",
              "      <td>-0.128620</td>\n",
              "      <td>-0.094860</td>\n",
              "      <td>-0.458729</td>\n",
              "      <td>-0.137651</td>\n",
              "      <td>-0.466440</td>\n",
              "      <td>-0.442057</td>\n",
              "      <td>133</td>\n",
              "      <td>0</td>\n",
              "    </tr>\n",
              "    <tr>\n",
              "      <th>1</th>\n",
              "      <td>-0.524593</td>\n",
              "      <td>0.704878</td>\n",
              "      <td>0.850340</td>\n",
              "      <td>0.027749</td>\n",
              "      <td>0.920410</td>\n",
              "      <td>0.603275</td>\n",
              "      <td>-0.211174</td>\n",
              "      <td>-0.082434</td>\n",
              "      <td>0.240596</td>\n",
              "      <td>1.006302</td>\n",
              "      <td>...</td>\n",
              "      <td>-0.109889</td>\n",
              "      <td>-0.081786</td>\n",
              "      <td>-0.128620</td>\n",
              "      <td>-0.094860</td>\n",
              "      <td>-0.458729</td>\n",
              "      <td>-0.137651</td>\n",
              "      <td>-0.466440</td>\n",
              "      <td>-0.442057</td>\n",
              "      <td>410</td>\n",
              "      <td>0</td>\n",
              "    </tr>\n",
              "    <tr>\n",
              "      <th>2</th>\n",
              "      <td>-0.525233</td>\n",
              "      <td>0.300651</td>\n",
              "      <td>0.339163</td>\n",
              "      <td>0.020443</td>\n",
              "      <td>0.363712</td>\n",
              "      <td>0.603275</td>\n",
              "      <td>-0.211174</td>\n",
              "      <td>0.044064</td>\n",
              "      <td>0.439619</td>\n",
              "      <td>0.484295</td>\n",
              "      <td>...</td>\n",
              "      <td>-0.109889</td>\n",
              "      <td>-0.081786</td>\n",
              "      <td>-0.128620</td>\n",
              "      <td>-0.094860</td>\n",
              "      <td>-0.458729</td>\n",
              "      <td>-0.137651</td>\n",
              "      <td>-0.466440</td>\n",
              "      <td>-0.442057</td>\n",
              "      <td>682</td>\n",
              "      <td>0</td>\n",
              "    </tr>\n",
              "    <tr>\n",
              "      <th>3</th>\n",
              "      <td>-0.524560</td>\n",
              "      <td>0.652153</td>\n",
              "      <td>0.745098</td>\n",
              "      <td>0.026625</td>\n",
              "      <td>0.933533</td>\n",
              "      <td>0.603275</td>\n",
              "      <td>-0.211174</td>\n",
              "      <td>-0.074097</td>\n",
              "      <td>0.257378</td>\n",
              "      <td>1.006302</td>\n",
              "      <td>...</td>\n",
              "      <td>-0.109889</td>\n",
              "      <td>-0.081786</td>\n",
              "      <td>-0.128620</td>\n",
              "      <td>-0.094860</td>\n",
              "      <td>-0.458729</td>\n",
              "      <td>-0.137651</td>\n",
              "      <td>-0.466440</td>\n",
              "      <td>-0.442057</td>\n",
              "      <td>410</td>\n",
              "      <td>0</td>\n",
              "    </tr>\n",
              "    <tr>\n",
              "      <th>4</th>\n",
              "      <td>-0.524555</td>\n",
              "      <td>0.757604</td>\n",
              "      <td>0.805237</td>\n",
              "      <td>0.028030</td>\n",
              "      <td>0.960037</td>\n",
              "      <td>0.603275</td>\n",
              "      <td>-0.211174</td>\n",
              "      <td>-0.091861</td>\n",
              "      <td>0.225734</td>\n",
              "      <td>1.006302</td>\n",
              "      <td>...</td>\n",
              "      <td>-0.109889</td>\n",
              "      <td>-0.081786</td>\n",
              "      <td>-0.128620</td>\n",
              "      <td>-0.094860</td>\n",
              "      <td>-0.458729</td>\n",
              "      <td>-0.137651</td>\n",
              "      <td>-0.466440</td>\n",
              "      <td>-0.442057</td>\n",
              "      <td>410</td>\n",
              "      <td>0</td>\n",
              "    </tr>\n",
              "    <tr>\n",
              "      <th>...</th>\n",
              "      <td>...</td>\n",
              "      <td>...</td>\n",
              "      <td>...</td>\n",
              "      <td>...</td>\n",
              "      <td>...</td>\n",
              "      <td>...</td>\n",
              "      <td>...</td>\n",
              "      <td>...</td>\n",
              "      <td>...</td>\n",
              "      <td>...</td>\n",
              "      <td>...</td>\n",
              "      <td>...</td>\n",
              "      <td>...</td>\n",
              "      <td>...</td>\n",
              "      <td>...</td>\n",
              "      <td>...</td>\n",
              "      <td>...</td>\n",
              "      <td>...</td>\n",
              "      <td>...</td>\n",
              "      <td>...</td>\n",
              "      <td>...</td>\n",
              "    </tr>\n",
              "    <tr>\n",
              "      <th>56656</th>\n",
              "      <td>-0.528463</td>\n",
              "      <td>-0.068426</td>\n",
              "      <td>-0.051737</td>\n",
              "      <td>-0.031309</td>\n",
              "      <td>-0.046220</td>\n",
              "      <td>-0.200831</td>\n",
              "      <td>0.457498</td>\n",
              "      <td>-0.064078</td>\n",
              "      <td>-0.255104</td>\n",
              "      <td>-0.517901</td>\n",
              "      <td>...</td>\n",
              "      <td>-0.109889</td>\n",
              "      <td>-0.081786</td>\n",
              "      <td>-0.128620</td>\n",
              "      <td>-0.094860</td>\n",
              "      <td>-0.458729</td>\n",
              "      <td>-0.137651</td>\n",
              "      <td>-0.466440</td>\n",
              "      <td>-0.442057</td>\n",
              "      <td>851</td>\n",
              "      <td>0</td>\n",
              "    </tr>\n",
              "    <tr>\n",
              "      <th>56657</th>\n",
              "      <td>-0.524840</td>\n",
              "      <td>-0.068426</td>\n",
              "      <td>-0.051737</td>\n",
              "      <td>-0.029904</td>\n",
              "      <td>-0.043932</td>\n",
              "      <td>-0.178412</td>\n",
              "      <td>0.770939</td>\n",
              "      <td>0.022086</td>\n",
              "      <td>-0.255104</td>\n",
              "      <td>-0.472838</td>\n",
              "      <td>...</td>\n",
              "      <td>-0.109889</td>\n",
              "      <td>-0.081786</td>\n",
              "      <td>-0.128620</td>\n",
              "      <td>-0.094860</td>\n",
              "      <td>-0.458729</td>\n",
              "      <td>-0.137651</td>\n",
              "      <td>-0.466440</td>\n",
              "      <td>-0.442057</td>\n",
              "      <td>976</td>\n",
              "      <td>0</td>\n",
              "    </tr>\n",
              "    <tr>\n",
              "      <th>56658</th>\n",
              "      <td>-0.215111</td>\n",
              "      <td>-0.015701</td>\n",
              "      <td>-0.021667</td>\n",
              "      <td>-0.013231</td>\n",
              "      <td>-0.016083</td>\n",
              "      <td>0.423920</td>\n",
              "      <td>-0.211174</td>\n",
              "      <td>0.269089</td>\n",
              "      <td>0.640328</td>\n",
              "      <td>0.711051</td>\n",
              "      <td>...</td>\n",
              "      <td>-0.108682</td>\n",
              "      <td>-0.081786</td>\n",
              "      <td>-0.127669</td>\n",
              "      <td>-0.093554</td>\n",
              "      <td>-0.256386</td>\n",
              "      <td>-0.137651</td>\n",
              "      <td>-0.269448</td>\n",
              "      <td>-0.238252</td>\n",
              "      <td>352</td>\n",
              "      <td>3</td>\n",
              "    </tr>\n",
              "    <tr>\n",
              "      <th>56659</th>\n",
              "      <td>-0.215111</td>\n",
              "      <td>0.037025</td>\n",
              "      <td>0.008402</td>\n",
              "      <td>-0.014823</td>\n",
              "      <td>0.058109</td>\n",
              "      <td>0.373103</td>\n",
              "      <td>-0.211174</td>\n",
              "      <td>0.050807</td>\n",
              "      <td>0.399311</td>\n",
              "      <td>1.528310</td>\n",
              "      <td>...</td>\n",
              "      <td>-0.108677</td>\n",
              "      <td>-0.081786</td>\n",
              "      <td>-0.127664</td>\n",
              "      <td>-0.093548</td>\n",
              "      <td>-0.256402</td>\n",
              "      <td>-0.137651</td>\n",
              "      <td>-0.269464</td>\n",
              "      <td>-0.238268</td>\n",
              "      <td>980</td>\n",
              "      <td>3</td>\n",
              "    </tr>\n",
              "    <tr>\n",
              "      <th>56660</th>\n",
              "      <td>-0.214989</td>\n",
              "      <td>0.037025</td>\n",
              "      <td>-0.006633</td>\n",
              "      <td>-0.019038</td>\n",
              "      <td>0.058109</td>\n",
              "      <td>0.238587</td>\n",
              "      <td>-0.211174</td>\n",
              "      <td>-0.013815</td>\n",
              "      <td>0.257731</td>\n",
              "      <td>3.111635</td>\n",
              "      <td>...</td>\n",
              "      <td>-0.108683</td>\n",
              "      <td>-0.081786</td>\n",
              "      <td>-0.127670</td>\n",
              "      <td>-0.093555</td>\n",
              "      <td>-0.256275</td>\n",
              "      <td>-0.137651</td>\n",
              "      <td>-0.269340</td>\n",
              "      <td>-0.238140</td>\n",
              "      <td>328</td>\n",
              "      <td>3</td>\n",
              "    </tr>\n",
              "  </tbody>\n",
              "</table>\n",
              "<p>52479 rows × 79 columns</p>\n",
              "</div>\n",
              "      <button class=\"colab-df-convert\" onclick=\"convertToInteractive('df-8259a59c-44ba-4664-8c00-8ec49cd69afe')\"\n",
              "              title=\"Convert this dataframe to an interactive table.\"\n",
              "              style=\"display:none;\">\n",
              "        \n",
              "  <svg xmlns=\"http://www.w3.org/2000/svg\" height=\"24px\"viewBox=\"0 0 24 24\"\n",
              "       width=\"24px\">\n",
              "    <path d=\"M0 0h24v24H0V0z\" fill=\"none\"/>\n",
              "    <path d=\"M18.56 5.44l.94 2.06.94-2.06 2.06-.94-2.06-.94-.94-2.06-.94 2.06-2.06.94zm-11 1L8.5 8.5l.94-2.06 2.06-.94-2.06-.94L8.5 2.5l-.94 2.06-2.06.94zm10 10l.94 2.06.94-2.06 2.06-.94-2.06-.94-.94-2.06-.94 2.06-2.06.94z\"/><path d=\"M17.41 7.96l-1.37-1.37c-.4-.4-.92-.59-1.43-.59-.52 0-1.04.2-1.43.59L10.3 9.45l-7.72 7.72c-.78.78-.78 2.05 0 2.83L4 21.41c.39.39.9.59 1.41.59.51 0 1.02-.2 1.41-.59l7.78-7.78 2.81-2.81c.8-.78.8-2.07 0-2.86zM5.41 20L4 18.59l7.72-7.72 1.47 1.35L5.41 20z\"/>\n",
              "  </svg>\n",
              "      </button>\n",
              "      \n",
              "  <style>\n",
              "    .colab-df-container {\n",
              "      display:flex;\n",
              "      flex-wrap:wrap;\n",
              "      gap: 12px;\n",
              "    }\n",
              "\n",
              "    .colab-df-convert {\n",
              "      background-color: #E8F0FE;\n",
              "      border: none;\n",
              "      border-radius: 50%;\n",
              "      cursor: pointer;\n",
              "      display: none;\n",
              "      fill: #1967D2;\n",
              "      height: 32px;\n",
              "      padding: 0 0 0 0;\n",
              "      width: 32px;\n",
              "    }\n",
              "\n",
              "    .colab-df-convert:hover {\n",
              "      background-color: #E2EBFA;\n",
              "      box-shadow: 0px 1px 2px rgba(60, 64, 67, 0.3), 0px 1px 3px 1px rgba(60, 64, 67, 0.15);\n",
              "      fill: #174EA6;\n",
              "    }\n",
              "\n",
              "    [theme=dark] .colab-df-convert {\n",
              "      background-color: #3B4455;\n",
              "      fill: #D2E3FC;\n",
              "    }\n",
              "\n",
              "    [theme=dark] .colab-df-convert:hover {\n",
              "      background-color: #434B5C;\n",
              "      box-shadow: 0px 1px 3px 1px rgba(0, 0, 0, 0.15);\n",
              "      filter: drop-shadow(0px 1px 2px rgba(0, 0, 0, 0.3));\n",
              "      fill: #FFFFFF;\n",
              "    }\n",
              "  </style>\n",
              "\n",
              "      <script>\n",
              "        const buttonEl =\n",
              "          document.querySelector('#df-8259a59c-44ba-4664-8c00-8ec49cd69afe button.colab-df-convert');\n",
              "        buttonEl.style.display =\n",
              "          google.colab.kernel.accessAllowed ? 'block' : 'none';\n",
              "\n",
              "        async function convertToInteractive(key) {\n",
              "          const element = document.querySelector('#df-8259a59c-44ba-4664-8c00-8ec49cd69afe');\n",
              "          const dataTable =\n",
              "            await google.colab.kernel.invokeFunction('convertToInteractive',\n",
              "                                                     [key], {});\n",
              "          if (!dataTable) return;\n",
              "\n",
              "          const docLinkHtml = 'Like what you see? Visit the ' +\n",
              "            '<a target=\"_blank\" href=https://colab.research.google.com/notebooks/data_table.ipynb>data table notebook</a>'\n",
              "            + ' to learn more about interactive tables.';\n",
              "          element.innerHTML = '';\n",
              "          dataTable['output_type'] = 'display_data';\n",
              "          await google.colab.output.renderOutput(dataTable, element);\n",
              "          const docLink = document.createElement('div');\n",
              "          docLink.innerHTML = docLinkHtml;\n",
              "          element.appendChild(docLink);\n",
              "        }\n",
              "      </script>\n",
              "    </div>\n",
              "  </div>\n",
              "  "
            ]
          },
          "metadata": {},
          "execution_count": 43
        }
      ],
      "source": [
        "df_major"
      ]
    },
    {
      "cell_type": "code",
      "execution_count": null,
      "metadata": {
        "id": "Ae2cI_UFM3oN"
      },
      "outputs": [],
      "source": [
        "def typicalSampling(group):\n",
        "    name = group.name\n",
        "    frac = 0.008\n",
        "    return group.sample(frac=frac)\n",
        "\n",
        "result = df_major.groupby(\n",
        "    'klabel', group_keys=False\n",
        ").apply(typicalSampling)"
      ]
    },
    {
      "cell_type": "code",
      "execution_count": null,
      "metadata": {
        "colab": {
          "base_uri": "https://localhost:8080/"
        },
        "id": "T1ng_X0oM3oN",
        "outputId": "62f5a93c-1350-4cd9-9663-6d3c52f5a535"
      },
      "outputs": [
        {
          "output_type": "execute_result",
          "data": {
            "text/plain": [
              "0    115\n",
              "3    106\n",
              "5     61\n",
              "2     19\n",
              "Name: Label, dtype: int64"
            ]
          },
          "metadata": {},
          "execution_count": 16
        }
      ],
      "source": [
        "result['Label'].value_counts()"
      ]
    },
    {
      "cell_type": "code",
      "execution_count": null,
      "metadata": {
        "scrolled": true,
        "colab": {
          "base_uri": "https://localhost:8080/",
          "height": 540
        },
        "id": "BPnfF9lzM3oO",
        "outputId": "b34463c5-4f5f-4469-ffbe-3be5e7cb5b70"
      },
      "outputs": [
        {
          "output_type": "execute_result",
          "data": {
            "text/plain": [
              "       Flow Duration  Total Fwd Packets  Total Backward Packets  \\\n",
              "6742       -0.420040          -0.033276               -0.081806   \n",
              "25635      -0.528465          -0.068426               -0.051737   \n",
              "1429       -0.478649          -0.050851                0.023436   \n",
              "1479       -0.527750          -0.050851                0.008402   \n",
              "12024      -0.528468          -0.086001               -0.066771   \n",
              "...              ...                ...                     ...   \n",
              "52563      -0.528445          -0.015701               -0.081806   \n",
              "41488       2.148541           0.001874               -0.006633   \n",
              "37273      -0.527644          -0.086001               -0.066771   \n",
              "24836      -0.526220          -0.068426               -0.051737   \n",
              "44717      -0.528470          -0.068426               -0.081806   \n",
              "\n",
              "       Total Length of Fwd Packets  Total Length of Bwd Packets  \\\n",
              "6742                     -0.033182                    -0.048343   \n",
              "25635                    -0.029904                    -0.046549   \n",
              "1429                     -0.033088                     0.057881   \n",
              "1479                     -0.033088                     0.057826   \n",
              "12024                    -0.034306                    -0.048288   \n",
              "...                            ...                          ...   \n",
              "52563                    -0.034306                    -0.048343   \n",
              "41488                    -0.014964                     0.057771   \n",
              "37273                    -0.032152                    -0.047666   \n",
              "24836                    -0.030372                    -0.046256   \n",
              "44717                    -0.034306                    -0.048343   \n",
              "\n",
              "       Fwd Packet Length Max  Fwd Packet Length Min  Fwd Packet Length Mean  \\\n",
              "6742               -0.239691              -0.085798               -0.213428   \n",
              "25635              -0.178412               0.770939                0.022086   \n",
              "1429               -0.218767              -0.211174               -0.198110   \n",
              "1479               -0.218767              -0.211174               -0.198110   \n",
              "12024              -0.248659              -0.211174               -0.247894   \n",
              "...                      ...                    ...                     ...   \n",
              "52563              -0.248659              -0.211174               -0.247894   \n",
              "41488               0.368619              -0.211174                0.147502   \n",
              "37273              -0.179907               0.750043                0.016342   \n",
              "24836              -0.185885               0.666459               -0.006635   \n",
              "44717              -0.248659              -0.211174               -0.247894   \n",
              "\n",
              "       Fwd Packet Length Std  Bwd Packet Length Max  ...  Active Mean  \\\n",
              "6742               -0.255104              -0.559719  ...    -0.109889   \n",
              "25635              -0.255104              -0.524390  ...    -0.109889   \n",
              "1429               -0.209439               1.019281  ...    -0.109889   \n",
              "1479               -0.209439               1.019281  ...    -0.109889   \n",
              "12024              -0.255104              -0.557556  ...    -0.109889   \n",
              "...                      ...                    ...  ...          ...   \n",
              "52563              -0.255104              -0.559719  ...    -0.109889   \n",
              "41488               0.495100               3.094331  ...    -0.108555   \n",
              "37273              -0.255104              -0.533042  ...    -0.109889   \n",
              "24836              -0.255104              -0.518622  ...    -0.109889   \n",
              "44717              -0.255104              -0.559719  ...    -0.109889   \n",
              "\n",
              "       Active Std  Active Max  Active Min  Idle Mean  Idle Std  Idle Max  \\\n",
              "6742    -0.081786   -0.128620   -0.094860  -0.458729 -0.137651 -0.466440   \n",
              "25635   -0.081786   -0.128620   -0.094860  -0.458729 -0.137651 -0.466440   \n",
              "1429    -0.081786   -0.128620   -0.094860  -0.458729 -0.137651 -0.466440   \n",
              "1479    -0.081786   -0.128620   -0.094860  -0.458729 -0.137651 -0.466440   \n",
              "12024   -0.081786   -0.128620   -0.094860  -0.458729 -0.137651 -0.466440   \n",
              "...           ...         ...         ...        ...       ...       ...   \n",
              "52563   -0.081786   -0.128620   -0.094860  -0.458729 -0.137651 -0.466440   \n",
              "41488   -0.081786   -0.127568   -0.093416   2.599602 -0.137651  2.511018   \n",
              "37273   -0.081786   -0.128620   -0.094860  -0.458729 -0.137651 -0.466440   \n",
              "24836   -0.081786   -0.128620   -0.094860  -0.458729 -0.137651 -0.466440   \n",
              "44717   -0.081786   -0.128620   -0.094860  -0.458729 -0.137651 -0.466440   \n",
              "\n",
              "       Idle Min  klabel  Label  \n",
              "6742  -0.442057       2      3  \n",
              "25635 -0.442057       9      0  \n",
              "1429  -0.442057      10      3  \n",
              "1479  -0.442057      10      3  \n",
              "12024 -0.442057      13      5  \n",
              "...         ...     ...    ...  \n",
              "52563 -0.442057     983      3  \n",
              "41488  2.638384     984      3  \n",
              "37273 -0.442057     987      0  \n",
              "24836 -0.442057     989      0  \n",
              "44717 -0.442057     995      3  \n",
              "\n",
              "[301 rows x 79 columns]"
            ],
            "text/html": [
              "\n",
              "  <div id=\"df-812c9002-894f-4b31-9662-f1b30d02af18\">\n",
              "    <div class=\"colab-df-container\">\n",
              "      <div>\n",
              "<style scoped>\n",
              "    .dataframe tbody tr th:only-of-type {\n",
              "        vertical-align: middle;\n",
              "    }\n",
              "\n",
              "    .dataframe tbody tr th {\n",
              "        vertical-align: top;\n",
              "    }\n",
              "\n",
              "    .dataframe thead th {\n",
              "        text-align: right;\n",
              "    }\n",
              "</style>\n",
              "<table border=\"1\" class=\"dataframe\">\n",
              "  <thead>\n",
              "    <tr style=\"text-align: right;\">\n",
              "      <th></th>\n",
              "      <th>Flow Duration</th>\n",
              "      <th>Total Fwd Packets</th>\n",
              "      <th>Total Backward Packets</th>\n",
              "      <th>Total Length of Fwd Packets</th>\n",
              "      <th>Total Length of Bwd Packets</th>\n",
              "      <th>Fwd Packet Length Max</th>\n",
              "      <th>Fwd Packet Length Min</th>\n",
              "      <th>Fwd Packet Length Mean</th>\n",
              "      <th>Fwd Packet Length Std</th>\n",
              "      <th>Bwd Packet Length Max</th>\n",
              "      <th>...</th>\n",
              "      <th>Active Mean</th>\n",
              "      <th>Active Std</th>\n",
              "      <th>Active Max</th>\n",
              "      <th>Active Min</th>\n",
              "      <th>Idle Mean</th>\n",
              "      <th>Idle Std</th>\n",
              "      <th>Idle Max</th>\n",
              "      <th>Idle Min</th>\n",
              "      <th>klabel</th>\n",
              "      <th>Label</th>\n",
              "    </tr>\n",
              "  </thead>\n",
              "  <tbody>\n",
              "    <tr>\n",
              "      <th>6742</th>\n",
              "      <td>-0.420040</td>\n",
              "      <td>-0.033276</td>\n",
              "      <td>-0.081806</td>\n",
              "      <td>-0.033182</td>\n",
              "      <td>-0.048343</td>\n",
              "      <td>-0.239691</td>\n",
              "      <td>-0.085798</td>\n",
              "      <td>-0.213428</td>\n",
              "      <td>-0.255104</td>\n",
              "      <td>-0.559719</td>\n",
              "      <td>...</td>\n",
              "      <td>-0.109889</td>\n",
              "      <td>-0.081786</td>\n",
              "      <td>-0.128620</td>\n",
              "      <td>-0.094860</td>\n",
              "      <td>-0.458729</td>\n",
              "      <td>-0.137651</td>\n",
              "      <td>-0.466440</td>\n",
              "      <td>-0.442057</td>\n",
              "      <td>2</td>\n",
              "      <td>3</td>\n",
              "    </tr>\n",
              "    <tr>\n",
              "      <th>25635</th>\n",
              "      <td>-0.528465</td>\n",
              "      <td>-0.068426</td>\n",
              "      <td>-0.051737</td>\n",
              "      <td>-0.029904</td>\n",
              "      <td>-0.046549</td>\n",
              "      <td>-0.178412</td>\n",
              "      <td>0.770939</td>\n",
              "      <td>0.022086</td>\n",
              "      <td>-0.255104</td>\n",
              "      <td>-0.524390</td>\n",
              "      <td>...</td>\n",
              "      <td>-0.109889</td>\n",
              "      <td>-0.081786</td>\n",
              "      <td>-0.128620</td>\n",
              "      <td>-0.094860</td>\n",
              "      <td>-0.458729</td>\n",
              "      <td>-0.137651</td>\n",
              "      <td>-0.466440</td>\n",
              "      <td>-0.442057</td>\n",
              "      <td>9</td>\n",
              "      <td>0</td>\n",
              "    </tr>\n",
              "    <tr>\n",
              "      <th>1429</th>\n",
              "      <td>-0.478649</td>\n",
              "      <td>-0.050851</td>\n",
              "      <td>0.023436</td>\n",
              "      <td>-0.033088</td>\n",
              "      <td>0.057881</td>\n",
              "      <td>-0.218767</td>\n",
              "      <td>-0.211174</td>\n",
              "      <td>-0.198110</td>\n",
              "      <td>-0.209439</td>\n",
              "      <td>1.019281</td>\n",
              "      <td>...</td>\n",
              "      <td>-0.109889</td>\n",
              "      <td>-0.081786</td>\n",
              "      <td>-0.128620</td>\n",
              "      <td>-0.094860</td>\n",
              "      <td>-0.458729</td>\n",
              "      <td>-0.137651</td>\n",
              "      <td>-0.466440</td>\n",
              "      <td>-0.442057</td>\n",
              "      <td>10</td>\n",
              "      <td>3</td>\n",
              "    </tr>\n",
              "    <tr>\n",
              "      <th>1479</th>\n",
              "      <td>-0.527750</td>\n",
              "      <td>-0.050851</td>\n",
              "      <td>0.008402</td>\n",
              "      <td>-0.033088</td>\n",
              "      <td>0.057826</td>\n",
              "      <td>-0.218767</td>\n",
              "      <td>-0.211174</td>\n",
              "      <td>-0.198110</td>\n",
              "      <td>-0.209439</td>\n",
              "      <td>1.019281</td>\n",
              "      <td>...</td>\n",
              "      <td>-0.109889</td>\n",
              "      <td>-0.081786</td>\n",
              "      <td>-0.128620</td>\n",
              "      <td>-0.094860</td>\n",
              "      <td>-0.458729</td>\n",
              "      <td>-0.137651</td>\n",
              "      <td>-0.466440</td>\n",
              "      <td>-0.442057</td>\n",
              "      <td>10</td>\n",
              "      <td>3</td>\n",
              "    </tr>\n",
              "    <tr>\n",
              "      <th>12024</th>\n",
              "      <td>-0.528468</td>\n",
              "      <td>-0.086001</td>\n",
              "      <td>-0.066771</td>\n",
              "      <td>-0.034306</td>\n",
              "      <td>-0.048288</td>\n",
              "      <td>-0.248659</td>\n",
              "      <td>-0.211174</td>\n",
              "      <td>-0.247894</td>\n",
              "      <td>-0.255104</td>\n",
              "      <td>-0.557556</td>\n",
              "      <td>...</td>\n",
              "      <td>-0.109889</td>\n",
              "      <td>-0.081786</td>\n",
              "      <td>-0.128620</td>\n",
              "      <td>-0.094860</td>\n",
              "      <td>-0.458729</td>\n",
              "      <td>-0.137651</td>\n",
              "      <td>-0.466440</td>\n",
              "      <td>-0.442057</td>\n",
              "      <td>13</td>\n",
              "      <td>5</td>\n",
              "    </tr>\n",
              "    <tr>\n",
              "      <th>...</th>\n",
              "      <td>...</td>\n",
              "      <td>...</td>\n",
              "      <td>...</td>\n",
              "      <td>...</td>\n",
              "      <td>...</td>\n",
              "      <td>...</td>\n",
              "      <td>...</td>\n",
              "      <td>...</td>\n",
              "      <td>...</td>\n",
              "      <td>...</td>\n",
              "      <td>...</td>\n",
              "      <td>...</td>\n",
              "      <td>...</td>\n",
              "      <td>...</td>\n",
              "      <td>...</td>\n",
              "      <td>...</td>\n",
              "      <td>...</td>\n",
              "      <td>...</td>\n",
              "      <td>...</td>\n",
              "      <td>...</td>\n",
              "      <td>...</td>\n",
              "    </tr>\n",
              "    <tr>\n",
              "      <th>52563</th>\n",
              "      <td>-0.528445</td>\n",
              "      <td>-0.015701</td>\n",
              "      <td>-0.081806</td>\n",
              "      <td>-0.034306</td>\n",
              "      <td>-0.048343</td>\n",
              "      <td>-0.248659</td>\n",
              "      <td>-0.211174</td>\n",
              "      <td>-0.247894</td>\n",
              "      <td>-0.255104</td>\n",
              "      <td>-0.559719</td>\n",
              "      <td>...</td>\n",
              "      <td>-0.109889</td>\n",
              "      <td>-0.081786</td>\n",
              "      <td>-0.128620</td>\n",
              "      <td>-0.094860</td>\n",
              "      <td>-0.458729</td>\n",
              "      <td>-0.137651</td>\n",
              "      <td>-0.466440</td>\n",
              "      <td>-0.442057</td>\n",
              "      <td>983</td>\n",
              "      <td>3</td>\n",
              "    </tr>\n",
              "    <tr>\n",
              "      <th>41488</th>\n",
              "      <td>2.148541</td>\n",
              "      <td>0.001874</td>\n",
              "      <td>-0.006633</td>\n",
              "      <td>-0.014964</td>\n",
              "      <td>0.057771</td>\n",
              "      <td>0.368619</td>\n",
              "      <td>-0.211174</td>\n",
              "      <td>0.147502</td>\n",
              "      <td>0.495100</td>\n",
              "      <td>3.094331</td>\n",
              "      <td>...</td>\n",
              "      <td>-0.108555</td>\n",
              "      <td>-0.081786</td>\n",
              "      <td>-0.127568</td>\n",
              "      <td>-0.093416</td>\n",
              "      <td>2.599602</td>\n",
              "      <td>-0.137651</td>\n",
              "      <td>2.511018</td>\n",
              "      <td>2.638384</td>\n",
              "      <td>984</td>\n",
              "      <td>3</td>\n",
              "    </tr>\n",
              "    <tr>\n",
              "      <th>37273</th>\n",
              "      <td>-0.527644</td>\n",
              "      <td>-0.086001</td>\n",
              "      <td>-0.066771</td>\n",
              "      <td>-0.032152</td>\n",
              "      <td>-0.047666</td>\n",
              "      <td>-0.179907</td>\n",
              "      <td>0.750043</td>\n",
              "      <td>0.016342</td>\n",
              "      <td>-0.255104</td>\n",
              "      <td>-0.533042</td>\n",
              "      <td>...</td>\n",
              "      <td>-0.109889</td>\n",
              "      <td>-0.081786</td>\n",
              "      <td>-0.128620</td>\n",
              "      <td>-0.094860</td>\n",
              "      <td>-0.458729</td>\n",
              "      <td>-0.137651</td>\n",
              "      <td>-0.466440</td>\n",
              "      <td>-0.442057</td>\n",
              "      <td>987</td>\n",
              "      <td>0</td>\n",
              "    </tr>\n",
              "    <tr>\n",
              "      <th>24836</th>\n",
              "      <td>-0.526220</td>\n",
              "      <td>-0.068426</td>\n",
              "      <td>-0.051737</td>\n",
              "      <td>-0.030372</td>\n",
              "      <td>-0.046256</td>\n",
              "      <td>-0.185885</td>\n",
              "      <td>0.666459</td>\n",
              "      <td>-0.006635</td>\n",
              "      <td>-0.255104</td>\n",
              "      <td>-0.518622</td>\n",
              "      <td>...</td>\n",
              "      <td>-0.109889</td>\n",
              "      <td>-0.081786</td>\n",
              "      <td>-0.128620</td>\n",
              "      <td>-0.094860</td>\n",
              "      <td>-0.458729</td>\n",
              "      <td>-0.137651</td>\n",
              "      <td>-0.466440</td>\n",
              "      <td>-0.442057</td>\n",
              "      <td>989</td>\n",
              "      <td>0</td>\n",
              "    </tr>\n",
              "    <tr>\n",
              "      <th>44717</th>\n",
              "      <td>-0.528470</td>\n",
              "      <td>-0.068426</td>\n",
              "      <td>-0.081806</td>\n",
              "      <td>-0.034306</td>\n",
              "      <td>-0.048343</td>\n",
              "      <td>-0.248659</td>\n",
              "      <td>-0.211174</td>\n",
              "      <td>-0.247894</td>\n",
              "      <td>-0.255104</td>\n",
              "      <td>-0.559719</td>\n",
              "      <td>...</td>\n",
              "      <td>-0.109889</td>\n",
              "      <td>-0.081786</td>\n",
              "      <td>-0.128620</td>\n",
              "      <td>-0.094860</td>\n",
              "      <td>-0.458729</td>\n",
              "      <td>-0.137651</td>\n",
              "      <td>-0.466440</td>\n",
              "      <td>-0.442057</td>\n",
              "      <td>995</td>\n",
              "      <td>3</td>\n",
              "    </tr>\n",
              "  </tbody>\n",
              "</table>\n",
              "<p>301 rows × 79 columns</p>\n",
              "</div>\n",
              "      <button class=\"colab-df-convert\" onclick=\"convertToInteractive('df-812c9002-894f-4b31-9662-f1b30d02af18')\"\n",
              "              title=\"Convert this dataframe to an interactive table.\"\n",
              "              style=\"display:none;\">\n",
              "        \n",
              "  <svg xmlns=\"http://www.w3.org/2000/svg\" height=\"24px\"viewBox=\"0 0 24 24\"\n",
              "       width=\"24px\">\n",
              "    <path d=\"M0 0h24v24H0V0z\" fill=\"none\"/>\n",
              "    <path d=\"M18.56 5.44l.94 2.06.94-2.06 2.06-.94-2.06-.94-.94-2.06-.94 2.06-2.06.94zm-11 1L8.5 8.5l.94-2.06 2.06-.94-2.06-.94L8.5 2.5l-.94 2.06-2.06.94zm10 10l.94 2.06.94-2.06 2.06-.94-2.06-.94-.94-2.06-.94 2.06-2.06.94z\"/><path d=\"M17.41 7.96l-1.37-1.37c-.4-.4-.92-.59-1.43-.59-.52 0-1.04.2-1.43.59L10.3 9.45l-7.72 7.72c-.78.78-.78 2.05 0 2.83L4 21.41c.39.39.9.59 1.41.59.51 0 1.02-.2 1.41-.59l7.78-7.78 2.81-2.81c.8-.78.8-2.07 0-2.86zM5.41 20L4 18.59l7.72-7.72 1.47 1.35L5.41 20z\"/>\n",
              "  </svg>\n",
              "      </button>\n",
              "      \n",
              "  <style>\n",
              "    .colab-df-container {\n",
              "      display:flex;\n",
              "      flex-wrap:wrap;\n",
              "      gap: 12px;\n",
              "    }\n",
              "\n",
              "    .colab-df-convert {\n",
              "      background-color: #E8F0FE;\n",
              "      border: none;\n",
              "      border-radius: 50%;\n",
              "      cursor: pointer;\n",
              "      display: none;\n",
              "      fill: #1967D2;\n",
              "      height: 32px;\n",
              "      padding: 0 0 0 0;\n",
              "      width: 32px;\n",
              "    }\n",
              "\n",
              "    .colab-df-convert:hover {\n",
              "      background-color: #E2EBFA;\n",
              "      box-shadow: 0px 1px 2px rgba(60, 64, 67, 0.3), 0px 1px 3px 1px rgba(60, 64, 67, 0.15);\n",
              "      fill: #174EA6;\n",
              "    }\n",
              "\n",
              "    [theme=dark] .colab-df-convert {\n",
              "      background-color: #3B4455;\n",
              "      fill: #D2E3FC;\n",
              "    }\n",
              "\n",
              "    [theme=dark] .colab-df-convert:hover {\n",
              "      background-color: #434B5C;\n",
              "      box-shadow: 0px 1px 3px 1px rgba(0, 0, 0, 0.15);\n",
              "      filter: drop-shadow(0px 1px 2px rgba(0, 0, 0, 0.3));\n",
              "      fill: #FFFFFF;\n",
              "    }\n",
              "  </style>\n",
              "\n",
              "      <script>\n",
              "        const buttonEl =\n",
              "          document.querySelector('#df-812c9002-894f-4b31-9662-f1b30d02af18 button.colab-df-convert');\n",
              "        buttonEl.style.display =\n",
              "          google.colab.kernel.accessAllowed ? 'block' : 'none';\n",
              "\n",
              "        async function convertToInteractive(key) {\n",
              "          const element = document.querySelector('#df-812c9002-894f-4b31-9662-f1b30d02af18');\n",
              "          const dataTable =\n",
              "            await google.colab.kernel.invokeFunction('convertToInteractive',\n",
              "                                                     [key], {});\n",
              "          if (!dataTable) return;\n",
              "\n",
              "          const docLinkHtml = 'Like what you see? Visit the ' +\n",
              "            '<a target=\"_blank\" href=https://colab.research.google.com/notebooks/data_table.ipynb>data table notebook</a>'\n",
              "            + ' to learn more about interactive tables.';\n",
              "          element.innerHTML = '';\n",
              "          dataTable['output_type'] = 'display_data';\n",
              "          await google.colab.output.renderOutput(dataTable, element);\n",
              "          const docLink = document.createElement('div');\n",
              "          docLink.innerHTML = docLinkHtml;\n",
              "          element.appendChild(docLink);\n",
              "        }\n",
              "      </script>\n",
              "    </div>\n",
              "  </div>\n",
              "  "
            ]
          },
          "metadata": {},
          "execution_count": 17
        }
      ],
      "source": [
        "result"
      ]
    },
    {
      "cell_type": "code",
      "execution_count": null,
      "metadata": {
        "id": "NSKvo6kSM3oO"
      },
      "outputs": [],
      "source": [
        "result = result.drop(['klabel'],axis=1)\n",
        "result = result.append(df_minor)"
      ]
    },
    {
      "cell_type": "code",
      "execution_count": null,
      "metadata": {
        "id": "xSHUXeKwM3oO"
      },
      "outputs": [],
      "source": [
        "result.to_csv('CICIDS2017_sample_km.csv',index=0)"
      ]
    },
    {
      "cell_type": "markdown",
      "metadata": {
        "id": "KFT_xMONM3oP"
      },
      "source": [
        "### split train set and test set"
      ]
    },
    {
      "cell_type": "code",
      "execution_count": null,
      "metadata": {
        "id": "hy98CEgtM3oP"
      },
      "outputs": [],
      "source": [
        "# Read the sampled dataset\n",
        "df=pd.read_csv('CICIDS2017_sample_km.csv')"
      ]
    },
    {
      "cell_type": "code",
      "execution_count": null,
      "metadata": {
        "id": "A6Y5Jn-XM3oP"
      },
      "outputs": [],
      "source": [
        "X = df.drop(['Label'],axis=1).values\n",
        "y = df.iloc[:, -1].values.reshape(-1,1)\n",
        "y=np.ravel(y)"
      ]
    },
    {
      "cell_type": "code",
      "execution_count": null,
      "metadata": {
        "collapsed": true,
        "id": "ggdkzk5mM3oQ"
      },
      "outputs": [],
      "source": [
        "X_train, X_test, y_train, y_test = train_test_split(X,y, train_size = 0.8, test_size = 0.2, random_state = 0,stratify = y)"
      ]
    },
    {
      "cell_type": "markdown",
      "metadata": {
        "id": "g_M4GLRaM3oQ"
      },
      "source": [
        "## Feature engineering"
      ]
    },
    {
      "cell_type": "markdown",
      "metadata": {
        "id": "pzHWvMadM3oQ"
      },
      "source": [
        "### Feature selection by information gain"
      ]
    },
    {
      "cell_type": "code",
      "execution_count": null,
      "metadata": {
        "collapsed": true,
        "id": "ehLDOdOVM3oQ"
      },
      "outputs": [],
      "source": [
        "from sklearn.feature_selection import mutual_info_classif\n",
        "importances = mutual_info_classif(X_train, y_train)"
      ]
    },
    {
      "cell_type": "code",
      "execution_count": null,
      "metadata": {
        "id": "iEkQ6E09M3oR"
      },
      "outputs": [],
      "source": [
        "# calculate the sum of importance scores\n",
        "f_list = sorted(zip(map(lambda x: round(x, 4), importances), features), reverse=True)\n",
        "Sum = 0\n",
        "fs = []\n",
        "for i in range(0, len(f_list)):\n",
        "    Sum = Sum + f_list[i][0]\n",
        "    fs.append(f_list[i][1])"
      ]
    },
    {
      "cell_type": "code",
      "execution_count": null,
      "metadata": {
        "id": "L8je4y3BM3oR"
      },
      "outputs": [],
      "source": [
        "# select the important features from top to bottom until the accumulated importance reaches 90%\n",
        "f_list2 = sorted(zip(map(lambda x: round(x, 4), importances/Sum), features), reverse=True)\n",
        "Sum2 = 0\n",
        "fs = []\n",
        "for i in range(0, len(f_list2)):\n",
        "    Sum2 = Sum2 + f_list2[i][0]\n",
        "    fs.append(f_list2[i][1])\n",
        "    if Sum2>=0.9:\n",
        "        break        "
      ]
    },
    {
      "cell_type": "code",
      "execution_count": null,
      "metadata": {
        "collapsed": true,
        "id": "BGDUm4gYM3oR"
      },
      "outputs": [],
      "source": [
        "X_fs = df[fs].values"
      ]
    },
    {
      "cell_type": "code",
      "execution_count": null,
      "metadata": {
        "colab": {
          "base_uri": "https://localhost:8080/"
        },
        "id": "EfY7Zm3ZM3oS",
        "outputId": "f25b5acd-f372-472f-937d-61967700d098"
      },
      "outputs": [
        {
          "output_type": "execute_result",
          "data": {
            "text/plain": [
              "(4483, 41)"
            ]
          },
          "metadata": {},
          "execution_count": 27
        }
      ],
      "source": [
        "X_fs.shape"
      ]
    },
    {
      "cell_type": "markdown",
      "metadata": {
        "id": "6fTW4E-KM3oS"
      },
      "source": [
        "### Feature selection by Fast Correlation Based Filter (FCBF)\n",
        "\n",
        "The module is imported from the GitHub repo: https://github.com/SantiagoEG/FCBF_module"
      ]
    },
    {
      "cell_type": "code",
      "source": [
        "!python test.py"
      ],
      "metadata": {
        "colab": {
          "base_uri": "https://localhost:8080/"
        },
        "id": "v6GTZwWrSrvB",
        "outputId": "976e1618-2516-4334-d2fe-b2ec2dc2ae01"
      },
      "execution_count": null,
      "outputs": [
        {
          "output_type": "stream",
          "name": "stdout",
          "text": [
            "No Feature Selection\n",
            "Classifer: DecisionTree\n",
            "Best score: 0.8335909373060211\n",
            "\n",
            "FCBF\n",
            "Classifer: DecisionTree\n",
            "Best score: 0.8230198634388579\n",
            "Elapsed Time: 1.5560925006866455\n",
            "\n",
            "FCBF#\n",
            "Classifer: DecisionTree\n",
            "Best score: 0.8202451893234016\n",
            "Elapsed Time: 1.5493412017822266\n",
            "\n",
            "Traceback (most recent call last):\n",
            "  File \"/usr/local/lib/python3.8/dist-packages/numpy/core/fromnumeric.py\", line 57, in _wrapfunc\n",
            "    return bound(*args, **kwds)\n",
            "TypeError: 'float' object cannot be interpreted as an integer\n",
            "\n",
            "During handling of the above exception, another exception occurred:\n",
            "\n",
            "Traceback (most recent call last):\n",
            "  File \"test.py\", line 82, in <module>\n",
            "    fcbfip.fit(dataset.data, dataset.target)\n",
            "  File \"/content/FCBF_module.py\", line 315, in fit\n",
            "    SU_x =  np.apply_along_axis(suGroup, 0, x_2d, nfeaturesPieces)\n",
            "  File \"<__array_function__ internals>\", line 5, in apply_along_axis\n",
            "  File \"/usr/local/lib/python3.8/dist-packages/numpy/lib/shape_base.py\", line 379, in apply_along_axis\n",
            "    res = asanyarray(func1d(inarr_view[ind0], *args, **kwargs))\n",
            "  File \"/content/FCBF_module.py\", line 37, in suGroup\n",
            "    x = np.reshape(x, (n,m/n)).T\n",
            "  File \"<__array_function__ internals>\", line 5, in reshape\n",
            "  File \"/usr/local/lib/python3.8/dist-packages/numpy/core/fromnumeric.py\", line 298, in reshape\n",
            "    return _wrapfunc(a, 'reshape', newshape, order=order)\n",
            "  File \"/usr/local/lib/python3.8/dist-packages/numpy/core/fromnumeric.py\", line 66, in _wrapfunc\n",
            "    return _wrapit(obj, method, *args, **kwds)\n",
            "  File \"/usr/local/lib/python3.8/dist-packages/numpy/core/fromnumeric.py\", line 43, in _wrapit\n",
            "    result = getattr(asarray(obj), method)(*args, **kwds)\n",
            "TypeError: 'float' object cannot be interpreted as an integer\n"
          ]
        }
      ]
    },
    {
      "cell_type": "code",
      "execution_count": null,
      "metadata": {
        "collapsed": true,
        "id": "Wkt6RUx_M3oT"
      },
      "outputs": [],
      "source": [
        "from FCBF_module import FCBF, FCBFK, FCBFiP, get_i\n",
        "fcbf = FCBFK(k = 20)\n",
        "#fcbf.fit(X_fs, y)"
      ]
    },
    {
      "cell_type": "code",
      "execution_count": null,
      "metadata": {
        "id": "r9x3fJLJM3oT"
      },
      "outputs": [],
      "source": [
        "X_fss = fcbf.fit_transform(X_fs,y)"
      ]
    },
    {
      "cell_type": "code",
      "execution_count": null,
      "metadata": {
        "colab": {
          "base_uri": "https://localhost:8080/"
        },
        "id": "5aE1k2mwM3oT",
        "outputId": "7bf22452-9783-41a9-934d-eb7f8258c6cc"
      },
      "outputs": [
        {
          "output_type": "execute_result",
          "data": {
            "text/plain": [
              "(4483, 20)"
            ]
          },
          "metadata": {},
          "execution_count": 44
        }
      ],
      "source": [
        "X_fss.shape"
      ]
    },
    {
      "cell_type": "markdown",
      "metadata": {
        "id": "56T5lAMtM3oU"
      },
      "source": [
        "### Re-split train & test sets after feature selection"
      ]
    },
    {
      "cell_type": "code",
      "execution_count": null,
      "metadata": {
        "collapsed": true,
        "id": "E_rS0JUPM3oU"
      },
      "outputs": [],
      "source": [
        "X_train, X_test, y_train, y_test = train_test_split(X_fss,y, train_size = 0.8, test_size = 0.2, random_state = 0,stratify = y)"
      ]
    },
    {
      "cell_type": "code",
      "execution_count": null,
      "metadata": {
        "colab": {
          "base_uri": "https://localhost:8080/"
        },
        "id": "ap8_i7TMM3oU",
        "outputId": "3a3f03a4-b511-4aee-bbc2-0e60cda0f6c1"
      },
      "outputs": [
        {
          "output_type": "execute_result",
          "data": {
            "text/plain": [
              "(3586, 20)"
            ]
          },
          "metadata": {},
          "execution_count": 46
        }
      ],
      "source": [
        "X_train.shape"
      ]
    },
    {
      "cell_type": "code",
      "execution_count": null,
      "metadata": {
        "colab": {
          "base_uri": "https://localhost:8080/"
        },
        "id": "Xlcn3ChFM3oV",
        "outputId": "185f81b0-9a60-43ca-a641-d04192db91ae"
      },
      "outputs": [
        {
          "output_type": "execute_result",
          "data": {
            "text/plain": [
              "6    1744\n",
              "1    1572\n",
              "0      92\n",
              "3      85\n",
              "5      49\n",
              "4      29\n",
              "2      15\n",
              "dtype: int64"
            ]
          },
          "metadata": {},
          "execution_count": 47
        }
      ],
      "source": [
        "pd.Series(y_train).value_counts()"
      ]
    },
    {
      "cell_type": "markdown",
      "metadata": {
        "id": "cfOhMPVNM3oV"
      },
      "source": [
        "### SMOTE to solve class-imbalance"
      ]
    },
    {
      "cell_type": "code",
      "execution_count": null,
      "metadata": {
        "id": "Z-3rOHwsM3oV"
      },
      "outputs": [],
      "source": [
        "from imblearn.over_sampling import SMOTE\n",
        "smote=SMOTE(n_jobs=-1,sampling_strategy={2:1000,4:1000})"
      ]
    },
    {
      "cell_type": "code",
      "execution_count": null,
      "metadata": {
        "collapsed": true,
        "id": "KfYrNOtkM3oV"
      },
      "outputs": [],
      "source": [
        "X_train, y_train = smote.fit_resample(X_train, y_train)"
      ]
    },
    {
      "cell_type": "code",
      "execution_count": null,
      "metadata": {
        "colab": {
          "base_uri": "https://localhost:8080/"
        },
        "id": "zAgVB4piM3oV",
        "outputId": "5a0c6204-bc2c-4389-8308-74ebde82ccad"
      },
      "outputs": [
        {
          "output_type": "execute_result",
          "data": {
            "text/plain": [
              "6    1744\n",
              "1    1572\n",
              "4    1000\n",
              "2    1000\n",
              "0      92\n",
              "3      85\n",
              "5      49\n",
              "dtype: int64"
            ]
          },
          "metadata": {},
          "execution_count": 50
        }
      ],
      "source": [
        "pd.Series(y_train).value_counts()"
      ]
    },
    {
      "cell_type": "markdown",
      "metadata": {
        "id": "Ghkt180JM3oW"
      },
      "source": [
        "## Machine learning model training"
      ]
    },
    {
      "cell_type": "markdown",
      "metadata": {
        "id": "Z6i1Lt-eM3oW"
      },
      "source": [
        "### Training four base learners: decision tree, random forest, extra trees, XGBoost"
      ]
    },
    {
      "cell_type": "markdown",
      "metadata": {
        "id": "vTK_8La0M3oW"
      },
      "source": [
        "#### Apply XGBoost"
      ]
    },
    {
      "cell_type": "code",
      "execution_count": null,
      "metadata": {
        "colab": {
          "base_uri": "https://localhost:8080/",
          "height": 663
        },
        "id": "5H69brQTM3oW",
        "outputId": "49f7d1dc-81b7-46f0-acac-61755f684a5f"
      },
      "outputs": [
        {
          "output_type": "stream",
          "name": "stdout",
          "text": [
            "Accuracy of XGBoost: 0.9777034559643255\n",
            "Precision of XGBoost: 0.9878037407700534\n",
            "Recall of XGBoost: 0.9777034559643255\n",
            "F1-score of XGBoost: 0.9795214757092667\n",
            "              precision    recall  f1-score   support\n",
            "\n",
            "           0       0.94      0.65      0.77        23\n",
            "           1       1.00      0.99      1.00       394\n",
            "           2       0.44      1.00      0.62         4\n",
            "           3       1.00      0.62      0.76        21\n",
            "           4       0.39      1.00      0.56         7\n",
            "           5       1.00      1.00      1.00        12\n",
            "           6       1.00      1.00      1.00       436\n",
            "\n",
            "    accuracy                           0.98       897\n",
            "   macro avg       0.82      0.89      0.81       897\n",
            "weighted avg       0.99      0.98      0.98       897\n",
            "\n"
          ]
        },
        {
          "output_type": "display_data",
          "data": {
            "text/plain": [
              "<Figure size 360x360 with 2 Axes>"
            ],
            "image/png": "[encoded data removed]"
          },
          "metadata": {
            "needs_background": "light"
          }
        }
      ],
      "source": [
        "xg = xgb.XGBClassifier(n_estimators = 10)\n",
        "xg.fit(X_train,y_train)\n",
        "xg_score=xg.score(X_test,y_test)\n",
        "y_predict=xg.predict(X_test)\n",
        "y_true=y_test\n",
        "print('Accuracy of XGBoost: '+ str(xg_score))\n",
        "precision,recall,fscore,none= precision_recall_fscore_support(y_true, y_predict, average='weighted') \n",
        "print('Precision of XGBoost: '+(str(precision)))\n",
        "print('Recall of XGBoost: '+(str(recall)))\n",
        "print('F1-score of XGBoost: '+(str(fscore)))\n",
        "print(classification_report(y_true,y_predict))\n",
        "cm=confusion_matrix(y_true,y_predict)\n",
        "f,ax=plt.subplots(figsize=(5,5))\n",
        "sns.heatmap(cm,annot=True,linewidth=0.5,linecolor=\"red\",fmt=\".0f\",ax=ax)\n",
        "plt.xlabel(\"y_pred\")\n",
        "plt.ylabel(\"y_true\")\n",
        "plt.show()"
      ]
    },
    {
      "cell_type": "markdown",
      "metadata": {
        "id": "cTppj9oGM3oX"
      },
      "source": [
        "#### Hyperparameter optimization (HPO) of XGBoost using Bayesian optimization with tree-based Parzen estimator (BO-TPE)"
      ]
    },
    {
      "cell_type": "code",
      "execution_count": null,
      "metadata": {
        "colab": {
          "base_uri": "https://localhost:8080/"
        },
        "id": "vkPgO86fM3oX",
        "outputId": "3a192f44-597f-4e37-d526-45101a37e07c"
      },
      "outputs": [
        {
          "output_type": "stream",
          "name": "stdout",
          "text": [
            "100%|██████████| 20/20 [00:33<00:00,  1.66s/it, best loss: -0.9977703455964325]\n",
            "XGBoost: Hyperopt estimated optimum {'learning_rate': 1.549228315460332, 'max_depth': 28.0, 'n_estimators': 25.0}\n"
          ]
        }
      ],
      "source": [
        "from hyperopt import hp, fmin, tpe, STATUS_OK, Trials\n",
        "from sklearn.model_selection import cross_val_score, StratifiedKFold\n",
        "def objective(params):\n",
        "    params = {\n",
        "        'n_estimators': int(params['n_estimators']), \n",
        "        'max_depth': int(params['max_depth']),\n",
        "        'learning_rate':  abs(float(params['learning_rate'])),\n",
        "\n",
        "    }\n",
        "    clf = xgb.XGBClassifier( **params)\n",
        "    clf.fit(X_train, y_train)\n",
        "    y_pred = clf.predict(X_test)\n",
        "    score = accuracy_score(y_test, y_pred)\n",
        "\n",
        "    return {'loss':-score, 'status': STATUS_OK }\n",
        "\n",
        "space = {\n",
        "    'n_estimators': hp.quniform('n_estimators', 10, 100, 5),\n",
        "    'max_depth': hp.quniform('max_depth', 4, 100, 1),\n",
        "    'learning_rate': hp.normal('learning_rate', 0.01, 0.9),\n",
        "}\n",
        "\n",
        "best = fmin(fn=objective,\n",
        "            space=space,\n",
        "            algo=tpe.suggest,\n",
        "            max_evals=20)\n",
        "print(\"XGBoost: Hyperopt estimated optimum {}\".format(best))"
      ]
    },
    {
      "cell_type": "code",
      "execution_count": null,
      "metadata": {
        "colab": {
          "base_uri": "https://localhost:8080/",
          "height": 663
        },
        "id": "5Y70f_yHM3oX",
        "outputId": "ee973317-273c-4725-895d-68b57e4f9be2"
      },
      "outputs": [
        {
          "output_type": "stream",
          "name": "stdout",
          "text": [
            "Accuracy of XGBoost: 0.9966555183946488\n",
            "Precision of XGBoost: 0.9971535482429922\n",
            "Recall of XGBoost: 0.9966555183946488\n",
            "F1-score of XGBoost: 0.9966788423354465\n",
            "              precision    recall  f1-score   support\n",
            "\n",
            "           0       1.00      0.87      0.93        23\n",
            "           1       1.00      1.00      1.00       394\n",
            "           2       1.00      1.00      1.00         4\n",
            "           3       1.00      1.00      1.00        21\n",
            "           4       0.78      1.00      0.88         7\n",
            "           5       1.00      1.00      1.00        12\n",
            "           6       1.00      1.00      1.00       436\n",
            "\n",
            "    accuracy                           1.00       897\n",
            "   macro avg       0.97      0.98      0.97       897\n",
            "weighted avg       1.00      1.00      1.00       897\n",
            "\n"
          ]
        },
        {
          "output_type": "display_data",
          "data": {
            "text/plain": [
              "<Figure size 360x360 with 2 Axes>"
            ],
            "image/png": "[encoded data removed]"
          },
          "metadata": {
            "needs_background": "light"
          }
        }
      ],
      "source": [
        "xg = xgb.XGBClassifier(learning_rate= 0.7340229699980686, n_estimators = 70, max_depth = 14)\n",
        "xg.fit(X_train,y_train)\n",
        "xg_score=xg.score(X_test,y_test)\n",
        "y_predict=xg.predict(X_test)\n",
        "y_true=y_test\n",
        "print('Accuracy of XGBoost: '+ str(xg_score))\n",
        "precision,recall,fscore,none= precision_recall_fscore_support(y_true, y_predict, average='weighted') \n",
        "print('Precision of XGBoost: '+(str(precision)))\n",
        "print('Recall of XGBoost: '+(str(recall)))\n",
        "print('F1-score of XGBoost: '+(str(fscore)))\n",
        "print(classification_report(y_true,y_predict))\n",
        "cm=confusion_matrix(y_true,y_predict)\n",
        "f,ax=plt.subplots(figsize=(5,5))\n",
        "sns.heatmap(cm,annot=True,linewidth=0.5,linecolor=\"red\",fmt=\".0f\",ax=ax)\n",
        "plt.xlabel(\"y_pred\")\n",
        "plt.ylabel(\"y_true\")\n",
        "plt.show()"
      ]
    },
    {
      "cell_type": "code",
      "execution_count": null,
      "metadata": {
        "id": "C7dGOJ-eM3oY"
      },
      "outputs": [],
      "source": [
        "xg_train=xg.predict(X_train)\n",
        "xg_test=xg.predict(X_test)"
      ]
    },
    {
      "cell_type": "markdown",
      "metadata": {
        "id": "_PKikDe9M3oY"
      },
      "source": [
        "#### Apply RF"
      ]
    },
    {
      "cell_type": "code",
      "execution_count": null,
      "metadata": {
        "colab": {
          "base_uri": "https://localhost:8080/",
          "height": 663
        },
        "id": "hZbCPIDSM3oY",
        "outputId": "99d8b5bf-55f0-4350-8c1f-fa6a6a6f2536"
      },
      "outputs": [
        {
          "output_type": "stream",
          "name": "stdout",
          "text": [
            "Accuracy of RF: 0.9933110367892977\n",
            "Precision of RF: 0.9943225770575904\n",
            "Recall of RF: 0.9933110367892977\n",
            "F1-score of RF: 0.9932690097123109\n",
            "              precision    recall  f1-score   support\n",
            "\n",
            "           0       1.00      0.78      0.88        23\n",
            "           1       0.99      1.00      1.00       394\n",
            "           2       1.00      1.00      1.00         4\n",
            "           3       1.00      1.00      1.00        21\n",
            "           4       0.70      1.00      0.82         7\n",
            "           5       1.00      1.00      1.00        12\n",
            "           6       1.00      1.00      1.00       436\n",
            "\n",
            "    accuracy                           0.99       897\n",
            "   macro avg       0.96      0.97      0.96       897\n",
            "weighted avg       0.99      0.99      0.99       897\n",
            "\n"
          ]
        },
        {
          "output_type": "display_data",
          "data": {
            "text/plain": [
              "<Figure size 360x360 with 2 Axes>"
            ],
            "image/png": "[encoded data removed]"
          },
          "metadata": {
            "needs_background": "light"
          }
        }
      ],
      "source": [
        "rf = RandomForestClassifier(random_state = 0)\n",
        "rf.fit(X_train,y_train) \n",
        "rf_score=rf.score(X_test,y_test)\n",
        "y_predict=rf.predict(X_test)\n",
        "y_true=y_test\n",
        "print('Accuracy of RF: '+ str(rf_score))\n",
        "precision,recall,fscore,none= precision_recall_fscore_support(y_true, y_predict, average='weighted') \n",
        "print('Precision of RF: '+(str(precision)))\n",
        "print('Recall of RF: '+(str(recall)))\n",
        "print('F1-score of RF: '+(str(fscore)))\n",
        "print(classification_report(y_true,y_predict))\n",
        "cm=confusion_matrix(y_true,y_predict)\n",
        "f,ax=plt.subplots(figsize=(5,5))\n",
        "sns.heatmap(cm,annot=True,linewidth=0.5,linecolor=\"red\",fmt=\".0f\",ax=ax)\n",
        "plt.xlabel(\"y_pred\")\n",
        "plt.ylabel(\"y_true\")\n",
        "plt.show()"
      ]
    },
    {
      "cell_type": "markdown",
      "metadata": {
        "id": "llqLoiyCM3oZ"
      },
      "source": [
        "#### Hyperparameter optimization (HPO) of random forest using Bayesian optimization with tree-based Parzen estimator (BO-TPE)"
      ]
    },
    {
      "cell_type": "code",
      "execution_count": null,
      "metadata": {
        "colab": {
          "base_uri": "https://localhost:8080/"
        },
        "id": "WHxIdHrTM3oZ",
        "outputId": "a54ee6b7-2bdb-41ff-c4e2-41defdfb0009"
      },
      "outputs": [
        {
          "output_type": "stream",
          "name": "stdout",
          "text": [
            "100%|██████████| 20/20 [00:29<00:00,  1.46s/it, best loss: -0.9944258639910813]\n",
            "Random Forest: Hyperopt estimated optimum {'criterion': 1, 'max_depth': 38.0, 'max_features': 14.0, 'min_samples_leaf': 1.0, 'min_samples_split': 4.0, 'n_estimators': 67.0}\n"
          ]
        }
      ],
      "source": [
        "# Hyperparameter optimization of random forest\n",
        "from hyperopt import hp, fmin, tpe, STATUS_OK, Trials\n",
        "from sklearn.model_selection import cross_val_score, StratifiedKFold\n",
        "# Define the objective function\n",
        "def objective(params):\n",
        "    params = {\n",
        "        'n_estimators': int(params['n_estimators']), \n",
        "        'max_depth': int(params['max_depth']),\n",
        "        'max_features': int(params['max_features']),\n",
        "        \"min_samples_split\":int(params['min_samples_split']),\n",
        "        \"min_samples_leaf\":int(params['min_samples_leaf']),\n",
        "        \"criterion\":str(params['criterion'])\n",
        "    }\n",
        "    clf = RandomForestClassifier( **params)\n",
        "    clf.fit(X_train,y_train)\n",
        "    score=clf.score(X_test,y_test)\n",
        "\n",
        "    return {'loss':-score, 'status': STATUS_OK }\n",
        "# Define the hyperparameter configuration space\n",
        "space = {\n",
        "    'n_estimators': hp.quniform('n_estimators', 10, 200, 1),\n",
        "    'max_depth': hp.quniform('max_depth', 5, 50, 1),\n",
        "    \"max_features\":hp.quniform('max_features', 1, 20, 1),\n",
        "    \"min_samples_split\":hp.quniform('min_samples_split',2,11,1),\n",
        "    \"min_samples_leaf\":hp.quniform('min_samples_leaf',1,11,1),\n",
        "    \"criterion\":hp.choice('criterion',['gini','entropy'])\n",
        "}\n",
        "\n",
        "best = fmin(fn=objective,\n",
        "            space=space,\n",
        "            algo=tpe.suggest,\n",
        "            max_evals=20)\n",
        "print(\"Random Forest: Hyperopt estimated optimum {}\".format(best))"
      ]
    },
    {
      "cell_type": "code",
      "execution_count": null,
      "metadata": {
        "colab": {
          "base_uri": "https://localhost:8080/",
          "height": 663
        },
        "id": "rP214RYjM3oa",
        "outputId": "77a2b37e-192b-4549-8f86-d1ecb79d18fa"
      },
      "outputs": [
        {
          "output_type": "stream",
          "name": "stdout",
          "text": [
            "Accuracy of RF: 0.9910813823857302\n",
            "Precision of RF: 0.991472722781799\n",
            "Recall of RF: 0.9910813823857302\n",
            "F1-score of RF: 0.9909972761923818\n",
            "              precision    recall  f1-score   support\n",
            "\n",
            "           0       0.90      0.78      0.84        23\n",
            "           1       1.00      0.99      1.00       394\n",
            "           2       0.80      1.00      0.89         4\n",
            "           3       1.00      0.95      0.98        21\n",
            "           4       0.78      1.00      0.88         7\n",
            "           5       1.00      1.00      1.00        12\n",
            "           6       1.00      1.00      1.00       436\n",
            "\n",
            "    accuracy                           0.99       897\n",
            "   macro avg       0.92      0.96      0.94       897\n",
            "weighted avg       0.99      0.99      0.99       897\n",
            "\n"
          ]
        },
        {
          "output_type": "display_data",
          "data": {
            "text/plain": [
              "<Figure size 360x360 with 2 Axes>"
            ],
            "image/png": "[encoded data removed]"
          },
          "metadata": {
            "needs_background": "light"
          }
        }
      ],
      "source": [
        "rf_hpo = RandomForestClassifier(n_estimators = 71, min_samples_leaf = 1, max_depth = 46, min_samples_split = 9, max_features = 20, criterion = 'entropy')\n",
        "rf_hpo.fit(X_train,y_train)\n",
        "rf_score=rf_hpo.score(X_test,y_test)\n",
        "y_predict=rf_hpo.predict(X_test)\n",
        "y_true=y_test\n",
        "print('Accuracy of RF: '+ str(rf_score))\n",
        "precision,recall,fscore,none= precision_recall_fscore_support(y_true, y_predict, average='weighted') \n",
        "print('Precision of RF: '+(str(precision)))\n",
        "print('Recall of RF: '+(str(recall)))\n",
        "print('F1-score of RF: '+(str(fscore)))\n",
        "print(classification_report(y_true,y_predict))\n",
        "cm=confusion_matrix(y_true,y_predict)\n",
        "f,ax=plt.subplots(figsize=(5,5))\n",
        "sns.heatmap(cm,annot=True,linewidth=0.5,linecolor=\"red\",fmt=\".0f\",ax=ax)\n",
        "plt.xlabel(\"y_pred\")\n",
        "plt.ylabel(\"y_true\")\n",
        "plt.show()"
      ]
    },
    {
      "cell_type": "code",
      "execution_count": null,
      "metadata": {
        "collapsed": true,
        "id": "JmyrQUZlM3oa"
      },
      "outputs": [],
      "source": [
        "rf_train=rf_hpo.predict(X_train)\n",
        "rf_test=rf_hpo.predict(X_test)"
      ]
    },
    {
      "cell_type": "markdown",
      "metadata": {
        "id": "LQG2VdLGM3oa"
      },
      "source": [
        "#### Apply DT"
      ]
    },
    {
      "cell_type": "code",
      "execution_count": null,
      "metadata": {
        "colab": {
          "base_uri": "https://localhost:8080/",
          "height": 663
        },
        "id": "cU9lmJOtM3oa",
        "outputId": "31472027-5443-45d5-8bfc-efab4df2e21a"
      },
      "outputs": [
        {
          "output_type": "stream",
          "name": "stdout",
          "text": [
            "Accuracy of DT: 0.987736900780379\n",
            "Precision of DT: 0.9887729018163801\n",
            "Recall of DT: 0.987736900780379\n",
            "F1-score of DT: 0.987931287264197\n",
            "              precision    recall  f1-score   support\n",
            "\n",
            "           0       0.82      0.78      0.80        23\n",
            "           1       1.00      1.00      1.00       394\n",
            "           2       0.67      1.00      0.80         4\n",
            "           3       1.00      0.90      0.95        21\n",
            "           4       0.78      1.00      0.88         7\n",
            "           5       1.00      1.00      1.00        12\n",
            "           6       0.99      0.99      0.99       436\n",
            "\n",
            "    accuracy                           0.99       897\n",
            "   macro avg       0.89      0.95      0.92       897\n",
            "weighted avg       0.99      0.99      0.99       897\n",
            "\n"
          ]
        },
        {
          "output_type": "display_data",
          "data": {
            "text/plain": [
              "<Figure size 360x360 with 2 Axes>"
            ],
            "image/png": "[encoded data removed]"
          },
          "metadata": {
            "needs_background": "light"
          }
        }
      ],
      "source": [
        "dt = DecisionTreeClassifier(random_state = 0)\n",
        "dt.fit(X_train,y_train) \n",
        "dt_score=dt.score(X_test,y_test)\n",
        "y_predict=dt.predict(X_test)\n",
        "y_true=y_test\n",
        "print('Accuracy of DT: '+ str(dt_score))\n",
        "precision,recall,fscore,none= precision_recall_fscore_support(y_true, y_predict, average='weighted') \n",
        "print('Precision of DT: '+(str(precision)))\n",
        "print('Recall of DT: '+(str(recall)))\n",
        "print('F1-score of DT: '+(str(fscore)))\n",
        "print(classification_report(y_true,y_predict))\n",
        "cm=confusion_matrix(y_true,y_predict)\n",
        "f,ax=plt.subplots(figsize=(5,5))\n",
        "sns.heatmap(cm,annot=True,linewidth=0.5,linecolor=\"red\",fmt=\".0f\",ax=ax)\n",
        "plt.xlabel(\"y_pred\")\n",
        "plt.ylabel(\"y_true\")\n",
        "plt.show()"
      ]
    },
    {
      "cell_type": "markdown",
      "metadata": {
        "id": "5XOcG4kfM3ob"
      },
      "source": [
        "#### Hyperparameter optimization (HPO) of decision tree using Bayesian optimization with tree-based Parzen estimator (BO-TPE)\n"
      ]
    },
    {
      "cell_type": "code",
      "execution_count": null,
      "metadata": {
        "colab": {
          "base_uri": "https://localhost:8080/"
        },
        "id": "G5PFhr6GM3ob",
        "outputId": "db970fa2-0467-46f6-9c01-0d7e5272844c"
      },
      "outputs": [
        {
          "output_type": "stream",
          "name": "stdout",
          "text": [
            "100%|██████████| 50/50 [00:01<00:00, 26.54it/s, best loss: -0.9933110367892977]\n",
            "Decision tree: Hyperopt estimated optimum {'criterion': 1, 'max_depth': 30.0, 'max_features': 8.0, 'min_samples_leaf': 1.0, 'min_samples_split': 5.0}\n"
          ]
        }
      ],
      "source": [
        "# Hyperparameter optimization of decision tree\n",
        "from hyperopt import hp, fmin, tpe, STATUS_OK, Trials\n",
        "from sklearn.model_selection import cross_val_score, StratifiedKFold\n",
        "# Define the objective function\n",
        "def objective(params):\n",
        "    params = {\n",
        "        'max_depth': int(params['max_depth']),\n",
        "        'max_features': int(params['max_features']),\n",
        "        \"min_samples_split\":int(params['min_samples_split']),\n",
        "        \"min_samples_leaf\":int(params['min_samples_leaf']),\n",
        "        \"criterion\":str(params['criterion'])\n",
        "    }\n",
        "    clf = DecisionTreeClassifier( **params)\n",
        "    clf.fit(X_train,y_train)\n",
        "    score=clf.score(X_test,y_test)\n",
        "\n",
        "    return {'loss':-score, 'status': STATUS_OK }\n",
        "# Define the hyperparameter configuration space\n",
        "space = {\n",
        "    'max_depth': hp.quniform('max_depth', 5, 50, 1),\n",
        "    \"max_features\":hp.quniform('max_features', 1, 20, 1),\n",
        "    \"min_samples_split\":hp.quniform('min_samples_split',2,11,1),\n",
        "    \"min_samples_leaf\":hp.quniform('min_samples_leaf',1,11,1),\n",
        "    \"criterion\":hp.choice('criterion',['gini','entropy'])\n",
        "}\n",
        "\n",
        "best = fmin(fn=objective,\n",
        "            space=space,\n",
        "            algo=tpe.suggest,\n",
        "            max_evals=50)\n",
        "print(\"Decision tree: Hyperopt estimated optimum {}\".format(best))"
      ]
    },
    {
      "cell_type": "code",
      "execution_count": null,
      "metadata": {
        "colab": {
          "base_uri": "https://localhost:8080/",
          "height": 663
        },
        "id": "hZlra2OKM3ok",
        "outputId": "b4e1c0f4-1efc-4f51-a228-4fbe5c124574"
      },
      "outputs": [
        {
          "output_type": "stream",
          "name": "stdout",
          "text": [
            "Accuracy of DT: 0.9910813823857302\n",
            "Precision of DT: 0.9912718923588489\n",
            "Recall of DT: 0.9910813823857302\n",
            "F1-score of DT: 0.9909092951317913\n",
            "              precision    recall  f1-score   support\n",
            "\n",
            "           0       0.90      0.83      0.86        23\n",
            "           1       1.00      1.00      1.00       394\n",
            "           2       0.80      1.00      0.89         4\n",
            "           3       1.00      0.86      0.92        21\n",
            "           4       0.88      1.00      0.93         7\n",
            "           5       1.00      1.00      1.00        12\n",
            "           6       0.99      1.00      1.00       436\n",
            "\n",
            "    accuracy                           0.99       897\n",
            "   macro avg       0.94      0.95      0.94       897\n",
            "weighted avg       0.99      0.99      0.99       897\n",
            "\n"
          ]
        },
        {
          "output_type": "display_data",
          "data": {
            "text/plain": [
              "<Figure size 360x360 with 2 Axes>"
            ],
            "image/png": "[encoded data removed]"
          },
          "metadata": {
            "needs_background": "light"
          }
        }
      ],
      "source": [
        "dt_hpo = DecisionTreeClassifier(min_samples_leaf = 2, max_depth = 47, min_samples_split = 3, max_features = 19, criterion = 'gini')\n",
        "dt_hpo.fit(X_train,y_train)\n",
        "dt_score=dt_hpo.score(X_test,y_test)\n",
        "y_predict=dt_hpo.predict(X_test)\n",
        "y_true=y_test\n",
        "print('Accuracy of DT: '+ str(dt_score))\n",
        "precision,recall,fscore,none= precision_recall_fscore_support(y_true, y_predict, average='weighted') \n",
        "print('Precision of DT: '+(str(precision)))\n",
        "print('Recall of DT: '+(str(recall)))\n",
        "print('F1-score of DT: '+(str(fscore)))\n",
        "print(classification_report(y_true,y_predict))\n",
        "cm=confusion_matrix(y_true,y_predict)\n",
        "f,ax=plt.subplots(figsize=(5,5))\n",
        "sns.heatmap(cm,annot=True,linewidth=0.5,linecolor=\"red\",fmt=\".0f\",ax=ax)\n",
        "plt.xlabel(\"y_pred\")\n",
        "plt.ylabel(\"y_true\")\n",
        "plt.show()"
      ]
    },
    {
      "cell_type": "code",
      "execution_count": null,
      "metadata": {
        "collapsed": true,
        "id": "JkA_9kBXM3ol"
      },
      "outputs": [],
      "source": [
        "dt_train=dt_hpo.predict(X_train)\n",
        "dt_test=dt_hpo.predict(X_test)"
      ]
    },
    {
      "cell_type": "markdown",
      "metadata": {
        "id": "ZLMT93g3M3ol"
      },
      "source": [
        "#### Apply ET"
      ]
    },
    {
      "cell_type": "code",
      "execution_count": null,
      "metadata": {
        "colab": {
          "base_uri": "https://localhost:8080/",
          "height": 663
        },
        "id": "g86LG-q7M3ol",
        "outputId": "1d662e98-f620-4cb1-c89d-7c4f1cdad57e"
      },
      "outputs": [
        {
          "output_type": "stream",
          "name": "stdout",
          "text": [
            "Accuracy of ET: 0.9910813823857302\n",
            "Precision of ET: 0.9923308261552833\n",
            "Recall of ET: 0.9910813823857302\n",
            "F1-score of ET: 0.9909460639395126\n",
            "              precision    recall  f1-score   support\n",
            "\n",
            "           0       1.00      0.74      0.85        23\n",
            "           1       0.99      1.00      1.00       394\n",
            "           2       0.67      1.00      0.80         4\n",
            "           3       1.00      1.00      1.00        21\n",
            "           4       0.78      1.00      0.88         7\n",
            "           5       1.00      1.00      1.00        12\n",
            "           6       1.00      1.00      1.00       436\n",
            "\n",
            "    accuracy                           0.99       897\n",
            "   macro avg       0.92      0.96      0.93       897\n",
            "weighted avg       0.99      0.99      0.99       897\n",
            "\n"
          ]
        },
        {
          "output_type": "display_data",
          "data": {
            "text/plain": [
              "<Figure size 360x360 with 2 Axes>"
            ],
            "image/png": "[encoded data removed]"
          },
          "metadata": {
            "needs_background": "light"
          }
        }
      ],
      "source": [
        "et = ExtraTreesClassifier(random_state = 0)\n",
        "et.fit(X_train,y_train) \n",
        "et_score=et.score(X_test,y_test)\n",
        "y_predict=et.predict(X_test)\n",
        "y_true=y_test\n",
        "print('Accuracy of ET: '+ str(et_score))\n",
        "precision,recall,fscore,none= precision_recall_fscore_support(y_true, y_predict, average='weighted') \n",
        "print('Precision of ET: '+(str(precision)))\n",
        "print('Recall of ET: '+(str(recall)))\n",
        "print('F1-score of ET: '+(str(fscore)))\n",
        "print(classification_report(y_true,y_predict))\n",
        "cm=confusion_matrix(y_true,y_predict)\n",
        "f,ax=plt.subplots(figsize=(5,5))\n",
        "sns.heatmap(cm,annot=True,linewidth=0.5,linecolor=\"red\",fmt=\".0f\",ax=ax)\n",
        "plt.xlabel(\"y_pred\")\n",
        "plt.ylabel(\"y_true\")\n",
        "plt.show()"
      ]
    },
    {
      "cell_type": "markdown",
      "metadata": {
        "id": "rt8lQBNhM3om"
      },
      "source": [
        "#### Hyperparameter optimization (HPO) of extra trees using Bayesian optimization with tree-based Parzen estimator (BO-TPE)"
      ]
    },
    {
      "cell_type": "code",
      "execution_count": null,
      "metadata": {
        "colab": {
          "base_uri": "https://localhost:8080/"
        },
        "id": "9JvcwofzM3om",
        "outputId": "d6cfac5b-0fdd-4866-ced0-91d6a5c9c283"
      },
      "outputs": [
        {
          "output_type": "stream",
          "name": "stdout",
          "text": [
            "100%|██████████| 20/20 [00:07<00:00,  2.77it/s, best loss: -0.9933110367892977]\n",
            "Random Forest: Hyperopt estimated optimum {'criterion': 0, 'max_depth': 18.0, 'max_features': 18.0, 'min_samples_leaf': 2.0, 'min_samples_split': 3.0, 'n_estimators': 167.0}\n"
          ]
        }
      ],
      "source": [
        "# Hyperparameter optimization of extra trees\n",
        "from hyperopt import hp, fmin, tpe, STATUS_OK, Trials\n",
        "from sklearn.model_selection import cross_val_score, StratifiedKFold\n",
        "# Define the objective function\n",
        "def objective(params):\n",
        "    params = {\n",
        "        'n_estimators': int(params['n_estimators']), \n",
        "        'max_depth': int(params['max_depth']),\n",
        "        'max_features': int(params['max_features']),\n",
        "        \"min_samples_split\":int(params['min_samples_split']),\n",
        "        \"min_samples_leaf\":int(params['min_samples_leaf']),\n",
        "        \"criterion\":str(params['criterion'])\n",
        "    }\n",
        "    clf = ExtraTreesClassifier( **params)\n",
        "    clf.fit(X_train,y_train)\n",
        "    score=clf.score(X_test,y_test)\n",
        "\n",
        "    return {'loss':-score, 'status': STATUS_OK }\n",
        "# Define the hyperparameter configuration space\n",
        "space = {\n",
        "    'n_estimators': hp.quniform('n_estimators', 10, 200, 1),\n",
        "    'max_depth': hp.quniform('max_depth', 5, 50, 1),\n",
        "    \"max_features\":hp.quniform('max_features', 1, 20, 1),\n",
        "    \"min_samples_split\":hp.quniform('min_samples_split',2,11,1),\n",
        "    \"min_samples_leaf\":hp.quniform('min_samples_leaf',1,11,1),\n",
        "    \"criterion\":hp.choice('criterion',['gini','entropy'])\n",
        "}\n",
        "\n",
        "best = fmin(fn=objective,\n",
        "            space=space,\n",
        "            algo=tpe.suggest,\n",
        "            max_evals=20)\n",
        "print(\"Random Forest: Hyperopt estimated optimum {}\".format(best))"
      ]
    },
    {
      "cell_type": "code",
      "execution_count": null,
      "metadata": {
        "colab": {
          "base_uri": "https://localhost:8080/",
          "height": 663
        },
        "id": "xsM-rCj_M3on",
        "outputId": "fc8891b1-6f3a-40c4-f3b5-c01bd86548d6"
      },
      "outputs": [
        {
          "output_type": "stream",
          "name": "stdout",
          "text": [
            "Accuracy of ET: 0.992196209587514\n",
            "Precision of ET: 0.9929315451054581\n",
            "Recall of ET: 0.992196209587514\n",
            "F1-score of ET: 0.9920632561849658\n",
            "              precision    recall  f1-score   support\n",
            "\n",
            "           0       1.00      0.78      0.88        23\n",
            "           1       0.99      1.00      0.99       394\n",
            "           2       0.80      1.00      0.89         4\n",
            "           3       1.00      1.00      1.00        21\n",
            "           4       0.78      1.00      0.88         7\n",
            "           5       1.00      1.00      1.00        12\n",
            "           6       1.00      1.00      1.00       436\n",
            "\n",
            "    accuracy                           0.99       897\n",
            "   macro avg       0.94      0.97      0.95       897\n",
            "weighted avg       0.99      0.99      0.99       897\n",
            "\n"
          ]
        },
        {
          "output_type": "display_data",
          "data": {
            "text/plain": [
              "<Figure size 360x360 with 2 Axes>"
            ],
            "image/png": "[encoded data removed]"
          },
          "metadata": {
            "needs_background": "light"
          }
        }
      ],
      "source": [
        "et_hpo = ExtraTreesClassifier(n_estimators = 53, min_samples_leaf = 1, max_depth = 31, min_samples_split = 5, max_features = 20, criterion = 'entropy')\n",
        "et_hpo.fit(X_train,y_train) \n",
        "et_score=et_hpo.score(X_test,y_test)\n",
        "y_predict=et_hpo.predict(X_test)\n",
        "y_true=y_test\n",
        "print('Accuracy of ET: '+ str(et_score))\n",
        "precision,recall,fscore,none= precision_recall_fscore_support(y_true, y_predict, average='weighted') \n",
        "print('Precision of ET: '+(str(precision)))\n",
        "print('Recall of ET: '+(str(recall)))\n",
        "print('F1-score of ET: '+(str(fscore)))\n",
        "print(classification_report(y_true,y_predict))\n",
        "cm=confusion_matrix(y_true,y_predict)\n",
        "f,ax=plt.subplots(figsize=(5,5))\n",
        "sns.heatmap(cm,annot=True,linewidth=0.5,linecolor=\"red\",fmt=\".0f\",ax=ax)\n",
        "plt.xlabel(\"y_pred\")\n",
        "plt.ylabel(\"y_true\")\n",
        "plt.show()"
      ]
    },
    {
      "cell_type": "code",
      "execution_count": null,
      "metadata": {
        "collapsed": true,
        "id": "o56ovaGCM3oo"
      },
      "outputs": [],
      "source": [
        "et_train=et_hpo.predict(X_train)\n",
        "et_test=et_hpo.predict(X_test)"
      ]
    },
    {
      "cell_type": "markdown",
      "metadata": {
        "id": "lClO5eSfM3oo"
      },
      "source": [
        "### Apply Stacking\n",
        "The ensemble model that combines the four ML models (DT, RF, ET, XGBoost)"
      ]
    },
    {
      "cell_type": "code",
      "execution_count": null,
      "metadata": {
        "colab": {
          "base_uri": "https://localhost:8080/",
          "height": 206
        },
        "id": "QgopinHQM3op",
        "outputId": "a969675f-3878-4a42-ec6d-04db31acb023"
      },
      "outputs": [
        {
          "output_type": "execute_result",
          "data": {
            "text/plain": [
              "   DecisionTree  RandomForest  ExtraTrees  XgBoost\n",
              "0             1             1           1        1\n",
              "1             6             6           6        6\n",
              "2             1             1           1        1\n",
              "3             1             1           1        1\n",
              "4             6             6           6        6"
            ],
            "text/html": [
              "\n",
              "  <div id=\"df-9ebedd9c-399c-4c99-815d-c7bded9ac596\">\n",
              "    <div class=\"colab-df-container\">\n",
              "      <div>\n",
              "<style scoped>\n",
              "    .dataframe tbody tr th:only-of-type {\n",
              "        vertical-align: middle;\n",
              "    }\n",
              "\n",
              "    .dataframe tbody tr th {\n",
              "        vertical-align: top;\n",
              "    }\n",
              "\n",
              "    .dataframe thead th {\n",
              "        text-align: right;\n",
              "    }\n",
              "</style>\n",
              "<table border=\"1\" class=\"dataframe\">\n",
              "  <thead>\n",
              "    <tr style=\"text-align: right;\">\n",
              "      <th></th>\n",
              "      <th>DecisionTree</th>\n",
              "      <th>RandomForest</th>\n",
              "      <th>ExtraTrees</th>\n",
              "      <th>XgBoost</th>\n",
              "    </tr>\n",
              "  </thead>\n",
              "  <tbody>\n",
              "    <tr>\n",
              "      <th>0</th>\n",
              "      <td>1</td>\n",
              "      <td>1</td>\n",
              "      <td>1</td>\n",
              "      <td>1</td>\n",
              "    </tr>\n",
              "    <tr>\n",
              "      <th>1</th>\n",
              "      <td>6</td>\n",
              "      <td>6</td>\n",
              "      <td>6</td>\n",
              "      <td>6</td>\n",
              "    </tr>\n",
              "    <tr>\n",
              "      <th>2</th>\n",
              "      <td>1</td>\n",
              "      <td>1</td>\n",
              "      <td>1</td>\n",
              "      <td>1</td>\n",
              "    </tr>\n",
              "    <tr>\n",
              "      <th>3</th>\n",
              "      <td>1</td>\n",
              "      <td>1</td>\n",
              "      <td>1</td>\n",
              "      <td>1</td>\n",
              "    </tr>\n",
              "    <tr>\n",
              "      <th>4</th>\n",
              "      <td>6</td>\n",
              "      <td>6</td>\n",
              "      <td>6</td>\n",
              "      <td>6</td>\n",
              "    </tr>\n",
              "  </tbody>\n",
              "</table>\n",
              "</div>\n",
              "      <button class=\"colab-df-convert\" onclick=\"convertToInteractive('df-9ebedd9c-399c-4c99-815d-c7bded9ac596')\"\n",
              "              title=\"Convert this dataframe to an interactive table.\"\n",
              "              style=\"display:none;\">\n",
              "        \n",
              "  <svg xmlns=\"http://www.w3.org/2000/svg\" height=\"24px\"viewBox=\"0 0 24 24\"\n",
              "       width=\"24px\">\n",
              "    <path d=\"M0 0h24v24H0V0z\" fill=\"none\"/>\n",
              "    <path d=\"M18.56 5.44l.94 2.06.94-2.06 2.06-.94-2.06-.94-.94-2.06-.94 2.06-2.06.94zm-11 1L8.5 8.5l.94-2.06 2.06-.94-2.06-.94L8.5 2.5l-.94 2.06-2.06.94zm10 10l.94 2.06.94-2.06 2.06-.94-2.06-.94-.94-2.06-.94 2.06-2.06.94z\"/><path d=\"M17.41 7.96l-1.37-1.37c-.4-.4-.92-.59-1.43-.59-.52 0-1.04.2-1.43.59L10.3 9.45l-7.72 7.72c-.78.78-.78 2.05 0 2.83L4 21.41c.39.39.9.59 1.41.59.51 0 1.02-.2 1.41-.59l7.78-7.78 2.81-2.81c.8-.78.8-2.07 0-2.86zM5.41 20L4 18.59l7.72-7.72 1.47 1.35L5.41 20z\"/>\n",
              "  </svg>\n",
              "      </button>\n",
              "      \n",
              "  <style>\n",
              "    .colab-df-container {\n",
              "      display:flex;\n",
              "      flex-wrap:wrap;\n",
              "      gap: 12px;\n",
              "    }\n",
              "\n",
              "    .colab-df-convert {\n",
              "      background-color: #E8F0FE;\n",
              "      border: none;\n",
              "      border-radius: 50%;\n",
              "      cursor: pointer;\n",
              "      display: none;\n",
              "      fill: #1967D2;\n",
              "      height: 32px;\n",
              "      padding: 0 0 0 0;\n",
              "      width: 32px;\n",
              "    }\n",
              "\n",
              "    .colab-df-convert:hover {\n",
              "      background-color: #E2EBFA;\n",
              "      box-shadow: 0px 1px 2px rgba(60, 64, 67, 0.3), 0px 1px 3px 1px rgba(60, 64, 67, 0.15);\n",
              "      fill: #174EA6;\n",
              "    }\n",
              "\n",
              "    [theme=dark] .colab-df-convert {\n",
              "      background-color: #3B4455;\n",
              "      fill: #D2E3FC;\n",
              "    }\n",
              "\n",
              "    [theme=dark] .colab-df-convert:hover {\n",
              "      background-color: #434B5C;\n",
              "      box-shadow: 0px 1px 3px 1px rgba(0, 0, 0, 0.15);\n",
              "      filter: drop-shadow(0px 1px 2px rgba(0, 0, 0, 0.3));\n",
              "      fill: #FFFFFF;\n",
              "    }\n",
              "  </style>\n",
              "\n",
              "      <script>\n",
              "        const buttonEl =\n",
              "          document.querySelector('#df-9ebedd9c-399c-4c99-815d-c7bded9ac596 button.colab-df-convert');\n",
              "        buttonEl.style.display =\n",
              "          google.colab.kernel.accessAllowed ? 'block' : 'none';\n",
              "\n",
              "        async function convertToInteractive(key) {\n",
              "          const element = document.querySelector('#df-9ebedd9c-399c-4c99-815d-c7bded9ac596');\n",
              "          const dataTable =\n",
              "            await google.colab.kernel.invokeFunction('convertToInteractive',\n",
              "                                                     [key], {});\n",
              "          if (!dataTable) return;\n",
              "\n",
              "          const docLinkHtml = 'Like what you see? Visit the ' +\n",
              "            '<a target=\"_blank\" href=https://colab.research.google.com/notebooks/data_table.ipynb>data table notebook</a>'\n",
              "            + ' to learn more about interactive tables.';\n",
              "          element.innerHTML = '';\n",
              "          dataTable['output_type'] = 'display_data';\n",
              "          await google.colab.output.renderOutput(dataTable, element);\n",
              "          const docLink = document.createElement('div');\n",
              "          docLink.innerHTML = docLinkHtml;\n",
              "          element.appendChild(docLink);\n",
              "        }\n",
              "      </script>\n",
              "    </div>\n",
              "  </div>\n",
              "  "
            ]
          },
          "metadata": {},
          "execution_count": 67
        }
      ],
      "source": [
        "base_predictions_train = pd.DataFrame( {\n",
        "    'DecisionTree': dt_train.ravel(),\n",
        "        'RandomForest': rf_train.ravel(),\n",
        "     'ExtraTrees': et_train.ravel(),\n",
        "     'XgBoost': xg_train.ravel(),\n",
        "    })\n",
        "base_predictions_train.head(5)"
      ]
    },
    {
      "cell_type": "code",
      "execution_count": null,
      "metadata": {
        "id": "OeGOZJsOM3op"
      },
      "outputs": [],
      "source": [
        "dt_train=dt_train.reshape(-1, 1)\n",
        "et_train=et_train.reshape(-1, 1)\n",
        "rf_train=rf_train.reshape(-1, 1)\n",
        "xg_train=xg_train.reshape(-1, 1)\n",
        "dt_test=dt_test.reshape(-1, 1)\n",
        "et_test=et_test.reshape(-1, 1)\n",
        "rf_test=rf_test.reshape(-1, 1)\n",
        "xg_test=xg_test.reshape(-1, 1)"
      ]
    },
    {
      "cell_type": "code",
      "execution_count": null,
      "metadata": {
        "colab": {
          "base_uri": "https://localhost:8080/"
        },
        "id": "V1_iWyhvM3op",
        "outputId": "259a9a13-5b52-40b9-f266-22839df54333"
      },
      "outputs": [
        {
          "output_type": "execute_result",
          "data": {
            "text/plain": [
              "(5542, 1)"
            ]
          },
          "metadata": {},
          "execution_count": 69
        }
      ],
      "source": [
        "dt_train.shape"
      ]
    },
    {
      "cell_type": "code",
      "execution_count": null,
      "metadata": {
        "id": "U1ClW7oJM3oq"
      },
      "outputs": [],
      "source": [
        "x_train = np.concatenate(( dt_train, et_train, rf_train, xg_train), axis=1)\n",
        "x_test = np.concatenate(( dt_test, et_test, rf_test, xg_test), axis=1)"
      ]
    },
    {
      "cell_type": "code",
      "execution_count": null,
      "metadata": {
        "colab": {
          "base_uri": "https://localhost:8080/",
          "height": 663
        },
        "id": "62urdX8pM3oq",
        "outputId": "7c47849a-bd11-4265-feb7-c9cfbd70a62d"
      },
      "outputs": [
        {
          "output_type": "stream",
          "name": "stdout",
          "text": [
            "Accuracy of Stacking: 0.9966555183946488\n",
            "Precision of Stacking: 0.9971535482429922\n",
            "Recall of Stacking: 0.9966555183946488\n",
            "F1-score of Stacking: 0.9966788423354465\n",
            "              precision    recall  f1-score   support\n",
            "\n",
            "           0       1.00      0.87      0.93        23\n",
            "           1       1.00      1.00      1.00       394\n",
            "           2       1.00      1.00      1.00         4\n",
            "           3       1.00      1.00      1.00        21\n",
            "           4       0.78      1.00      0.88         7\n",
            "           5       1.00      1.00      1.00        12\n",
            "           6       1.00      1.00      1.00       436\n",
            "\n",
            "    accuracy                           1.00       897\n",
            "   macro avg       0.97      0.98      0.97       897\n",
            "weighted avg       1.00      1.00      1.00       897\n",
            "\n"
          ]
        },
        {
          "output_type": "display_data",
          "data": {
            "text/plain": [
              "<Figure size 360x360 with 2 Axes>"
            ],
            "image/png": "[encoded data removed]"
          },
          "metadata": {
            "needs_background": "light"
          }
        }
      ],
      "source": [
        "stk = xgb.XGBClassifier().fit(x_train, y_train)\n",
        "y_predict=stk.predict(x_test)\n",
        "y_true=y_test\n",
        "stk_score=accuracy_score(y_true,y_predict)\n",
        "print('Accuracy of Stacking: '+ str(stk_score))\n",
        "precision,recall,fscore,none= precision_recall_fscore_support(y_true, y_predict, average='weighted') \n",
        "print('Precision of Stacking: '+(str(precision)))\n",
        "print('Recall of Stacking: '+(str(recall)))\n",
        "print('F1-score of Stacking: '+(str(fscore)))\n",
        "print(classification_report(y_true,y_predict))\n",
        "cm=confusion_matrix(y_true,y_predict)\n",
        "f,ax=plt.subplots(figsize=(5,5))\n",
        "sns.heatmap(cm,annot=True,linewidth=0.5,linecolor=\"red\",fmt=\".0f\",ax=ax)\n",
        "plt.xlabel(\"y_pred\")\n",
        "plt.ylabel(\"y_true\")\n",
        "plt.show()"
      ]
    },
    {
      "cell_type": "markdown",
      "metadata": {
        "id": "iBnPPprZM3or"
      },
      "source": [
        "#### Hyperparameter optimization (HPO) of the stacking ensemble model (XGBoost) using Bayesian optimization with tree-based Parzen estimator (BO-TPE)"
      ]
    },
    {
      "cell_type": "code",
      "execution_count": null,
      "metadata": {
        "colab": {
          "base_uri": "https://localhost:8080/"
        },
        "id": "G6YDoDfBM3or",
        "outputId": "d245867a-33b1-45c5-d101-29179a1ac511"
      },
      "outputs": [
        {
          "output_type": "stream",
          "name": "stdout",
          "text": [
            "100%|██████████| 20/20 [00:06<00:00,  2.93it/s, best loss: -0.9966555183946488]\n",
            "XGBoost: Hyperopt estimated optimum {'learning_rate': -0.28532101611313154, 'max_depth': 73.0, 'n_estimators': 50.0}\n"
          ]
        }
      ],
      "source": [
        "from hyperopt import hp, fmin, tpe, STATUS_OK, Trials\n",
        "from sklearn.model_selection import cross_val_score, StratifiedKFold\n",
        "def objective(params):\n",
        "    params = {\n",
        "        'n_estimators': int(params['n_estimators']), \n",
        "        'max_depth': int(params['max_depth']),\n",
        "        'learning_rate':  abs(float(params['learning_rate'])),\n",
        "\n",
        "    }\n",
        "    clf = xgb.XGBClassifier( **params)\n",
        "    clf.fit(x_train, y_train)\n",
        "    y_pred = clf.predict(x_test)\n",
        "    score = accuracy_score(y_test, y_pred)\n",
        "\n",
        "    return {'loss':-score, 'status': STATUS_OK }\n",
        "\n",
        "space = {\n",
        "    'n_estimators': hp.quniform('n_estimators', 10, 100, 5),\n",
        "    'max_depth': hp.quniform('max_depth', 4, 100, 1),\n",
        "    'learning_rate': hp.normal('learning_rate', 0.01, 0.9),\n",
        "}\n",
        "\n",
        "best = fmin(fn=objective,\n",
        "            space=space,\n",
        "            algo=tpe.suggest,\n",
        "            max_evals=20)\n",
        "print(\"XGBoost: Hyperopt estimated optimum {}\".format(best))"
      ]
    },
    {
      "cell_type": "code",
      "execution_count": null,
      "metadata": {
        "colab": {
          "base_uri": "https://localhost:8080/",
          "height": 663
        },
        "id": "dYWZx9_8M3or",
        "outputId": "91f5e749-3c37-40ba-9037-8776831da4b2"
      },
      "outputs": [
        {
          "output_type": "stream",
          "name": "stdout",
          "text": [
            "Accuracy of XGBoost: 0.9966555183946488\n",
            "Precision of XGBoost: 0.9971535482429922\n",
            "Recall of XGBoost: 0.9966555183946488\n",
            "F1-score of XGBoost: 0.9966788423354465\n",
            "              precision    recall  f1-score   support\n",
            "\n",
            "           0       1.00      0.87      0.93        23\n",
            "           1       1.00      1.00      1.00       394\n",
            "           2       1.00      1.00      1.00         4\n",
            "           3       1.00      1.00      1.00        21\n",
            "           4       0.78      1.00      0.88         7\n",
            "           5       1.00      1.00      1.00        12\n",
            "           6       1.00      1.00      1.00       436\n",
            "\n",
            "    accuracy                           1.00       897\n",
            "   macro avg       0.97      0.98      0.97       897\n",
            "weighted avg       1.00      1.00      1.00       897\n",
            "\n"
          ]
        },
        {
          "output_type": "display_data",
          "data": {
            "text/plain": [
              "<Figure size 360x360 with 2 Axes>"
            ],
            "image/png": "[encoded data removed]"
          },
          "metadata": {
            "needs_background": "light"
          }
        }
      ],
      "source": [
        "xg = xgb.XGBClassifier(learning_rate= 0.19229249758051492, n_estimators = 30, max_depth = 36)\n",
        "xg.fit(x_train,y_train)\n",
        "xg_score=xg.score(x_test,y_test)\n",
        "y_predict=xg.predict(x_test)\n",
        "y_true=y_test\n",
        "print('Accuracy of XGBoost: '+ str(xg_score))\n",
        "precision,recall,fscore,none= precision_recall_fscore_support(y_true, y_predict, average='weighted') \n",
        "print('Precision of XGBoost: '+(str(precision)))\n",
        "print('Recall of XGBoost: '+(str(recall)))\n",
        "print('F1-score of XGBoost: '+(str(fscore)))\n",
        "print(classification_report(y_true,y_predict))\n",
        "cm=confusion_matrix(y_true,y_predict)\n",
        "f,ax=plt.subplots(figsize=(5,5))\n",
        "sns.heatmap(cm,annot=True,linewidth=0.5,linecolor=\"red\",fmt=\".0f\",ax=ax)\n",
        "plt.xlabel(\"y_pred\")\n",
        "plt.ylabel(\"y_true\")\n",
        "plt.show()"
      ]
    },
    {
      "cell_type": "markdown",
      "metadata": {
        "collapsed": true,
        "id": "Vo65qeF3M3os"
      },
      "source": [
        "## Anomaly-based IDS"
      ]
    },
    {
      "cell_type": "markdown",
      "metadata": {
        "id": "dkXOMDaXM3os"
      },
      "source": [
        "### Generate the port-scan datasets for unknown attack detection"
      ]
    },
    {
      "cell_type": "code",
      "execution_count": null,
      "metadata": {
        "collapsed": true,
        "id": "t_N6WUAVM3os"
      },
      "outputs": [],
      "source": [
        "df=pd.read_csv('CICIDS2017_sample_km.csv')"
      ]
    },
    {
      "cell_type": "code",
      "execution_count": null,
      "metadata": {
        "colab": {
          "base_uri": "https://localhost:8080/"
        },
        "id": "EI0hO0YsM3ot",
        "outputId": "ec6afd39-0ca1-490b-ece9-4d3bbef1deae"
      },
      "outputs": [
        {
          "output_type": "execute_result",
          "data": {
            "text/plain": [
              "6    2180\n",
              "1    1966\n",
              "0     115\n",
              "3     106\n",
              "5      61\n",
              "4      36\n",
              "2      19\n",
              "Name: Label, dtype: int64"
            ]
          },
          "metadata": {},
          "execution_count": 75
        }
      ],
      "source": [
        "df.Label.value_counts()"
      ]
    },
    {
      "cell_type": "code",
      "execution_count": null,
      "metadata": {
        "collapsed": true,
        "id": "7uhNpoMbM3ot"
      },
      "outputs": [],
      "source": [
        "df1 = df[df['Label'] != 5]\n",
        "df1['Label'][df1['Label'] > 0] = 1\n",
        "df1.to_csv('CICIDS2017_sample_km_without_portscan.csv',index=0)"
      ]
    },
    {
      "cell_type": "code",
      "execution_count": null,
      "metadata": {
        "collapsed": true,
        "id": "LxHj-CyFM3ot"
      },
      "outputs": [],
      "source": [
        "df2 = df[df['Label'] == 5]\n",
        "df2['Label'][df2['Label'] == 5] = 1\n",
        "df2.to_csv('CICIDS2017_sample_km_portscan.csv',index=0)"
      ]
    },
    {
      "cell_type": "markdown",
      "metadata": {
        "id": "hj-50aduM3ot"
      },
      "source": [
        "### Read the generated datasets for unknown attack detection"
      ]
    },
    {
      "cell_type": "code",
      "execution_count": null,
      "metadata": {
        "collapsed": true,
        "id": "HwOdL-7PM3ou"
      },
      "outputs": [],
      "source": [
        "df1 = pd.read_csv('CICIDS2017_sample_km_without_portscan.csv')\n",
        "df2 = pd.read_csv('CICIDS2017_sample_km_portscan.csv')"
      ]
    },
    {
      "cell_type": "code",
      "execution_count": null,
      "metadata": {
        "id": "2arnN1Z4M3ou"
      },
      "outputs": [],
      "source": [
        "features = df1.drop(['Label'],axis=1).dtypes[df1.dtypes != 'object'].index\n",
        "df1[features] = df1[features].apply(\n",
        "    lambda x: (x - x.mean()) / (x.std()))\n",
        "df2[features] = df2[features].apply(\n",
        "    lambda x: (x - x.mean()) / (x.std()))\n",
        "df1 = df1.fillna(0)\n",
        "df2 = df2.fillna(0)"
      ]
    },
    {
      "cell_type": "code",
      "execution_count": null,
      "metadata": {
        "colab": {
          "base_uri": "https://localhost:8080/"
        },
        "id": "O_vt8kHUM3ou",
        "outputId": "1b93fce1-2f1b-482b-c75e-e0929b6c885f"
      },
      "outputs": [
        {
          "output_type": "execute_result",
          "data": {
            "text/plain": [
              "1    4307\n",
              "0     115\n",
              "Name: Label, dtype: int64"
            ]
          },
          "metadata": {},
          "execution_count": 80
        }
      ],
      "source": [
        "df1.Label.value_counts()"
      ]
    },
    {
      "cell_type": "code",
      "execution_count": null,
      "metadata": {
        "scrolled": true,
        "colab": {
          "base_uri": "https://localhost:8080/"
        },
        "id": "TwSaVBKgM3ou",
        "outputId": "ac929847-3983-4cdb-d5d1-1614c44d5731"
      },
      "outputs": [
        {
          "output_type": "execute_result",
          "data": {
            "text/plain": [
              "1    61\n",
              "Name: Label, dtype: int64"
            ]
          },
          "metadata": {},
          "execution_count": 81
        }
      ],
      "source": [
        "df2.Label.value_counts()"
      ]
    },
    {
      "cell_type": "code",
      "execution_count": null,
      "metadata": {
        "id": "NnrQTfUeM3ov"
      },
      "outputs": [],
      "source": [
        "df2p=df1[df1['Label']==0]\n",
        "df2pp=df2p.sample(n=None, frac=1255/18225, replace=False, weights=None, random_state=None, axis=0)\n",
        "df2=pd.concat([df2, df2pp])"
      ]
    },
    {
      "cell_type": "code",
      "execution_count": null,
      "metadata": {
        "colab": {
          "base_uri": "https://localhost:8080/"
        },
        "id": "pHjopsJzM3ov",
        "outputId": "6c4e9a82-061e-4049-82cd-58c3dae9ae54"
      },
      "outputs": [
        {
          "output_type": "execute_result",
          "data": {
            "text/plain": [
              "1    61\n",
              "0     8\n",
              "Name: Label, dtype: int64"
            ]
          },
          "metadata": {},
          "execution_count": 83
        }
      ],
      "source": [
        "df2.Label.value_counts()"
      ]
    },
    {
      "cell_type": "code",
      "execution_count": null,
      "metadata": {
        "collapsed": true,
        "id": "MDLuva_qM3ov"
      },
      "outputs": [],
      "source": [
        "df = df1.append(df2)"
      ]
    },
    {
      "cell_type": "code",
      "execution_count": null,
      "metadata": {
        "colab": {
          "base_uri": "https://localhost:8080/"
        },
        "id": "UwtuawkoM3ov",
        "outputId": "ec82060b-ef0f-452f-885d-139dc6258124"
      },
      "outputs": [
        {
          "output_type": "execute_result",
          "data": {
            "text/plain": [
              "1    4368\n",
              "0     123\n",
              "dtype: int64"
            ]
          },
          "metadata": {},
          "execution_count": 85
        }
      ],
      "source": [
        "X = df.drop(['Label'],axis=1) .values\n",
        "y = df.iloc[:, -1].values.reshape(-1,1)\n",
        "y=np.ravel(y)\n",
        "pd.Series(y).value_counts()"
      ]
    },
    {
      "cell_type": "markdown",
      "metadata": {
        "id": "4_bgGZZSM3ow"
      },
      "source": [
        "### Feature engineering (IG, FCBF, and KPCA)"
      ]
    },
    {
      "cell_type": "markdown",
      "metadata": {
        "id": "pSB95Wc3M3ow"
      },
      "source": [
        "#### Feature selection by information gain (IG)"
      ]
    },
    {
      "cell_type": "code",
      "execution_count": null,
      "metadata": {
        "id": "osb-WJFHM3ow"
      },
      "outputs": [],
      "source": [
        "from sklearn.feature_selection import mutual_info_classif\n",
        "importances = mutual_info_classif(X, y)"
      ]
    },
    {
      "cell_type": "code",
      "execution_count": null,
      "metadata": {
        "id": "LszH2eKwM3ow"
      },
      "outputs": [],
      "source": [
        "# calculate the sum of importance scores\n",
        "f_list = sorted(zip(map(lambda x: round(x, 4), importances), features), reverse=True)\n",
        "Sum = 0\n",
        "fs = []\n",
        "for i in range(0, len(f_list)):\n",
        "    Sum = Sum + f_list[i][0]\n",
        "    fs.append(f_list[i][1])"
      ]
    },
    {
      "cell_type": "code",
      "execution_count": null,
      "metadata": {
        "id": "T0v-VgvzM3ow"
      },
      "outputs": [],
      "source": [
        "# select the important features from top to bottom until the accumulated importance reaches 90%\n",
        "f_list2 = sorted(zip(map(lambda x: round(x, 4), importances/Sum), features), reverse=True)\n",
        "Sum2 = 0\n",
        "fs = []\n",
        "for i in range(0, len(f_list2)):\n",
        "    Sum2 = Sum2 + f_list2[i][0]\n",
        "    fs.append(f_list2[i][1])\n",
        "    if Sum2>=0.9:\n",
        "        break        "
      ]
    },
    {
      "cell_type": "code",
      "execution_count": null,
      "metadata": {
        "id": "HBmymlHNM3ox"
      },
      "outputs": [],
      "source": [
        "X_fs = df[fs].values"
      ]
    },
    {
      "cell_type": "code",
      "execution_count": null,
      "metadata": {
        "colab": {
          "base_uri": "https://localhost:8080/"
        },
        "id": "Ymy4aK6AM3ox",
        "outputId": "d5168c37-656e-4d9f-d766-ed2e84be860d"
      },
      "outputs": [
        {
          "output_type": "execute_result",
          "data": {
            "text/plain": [
              "(4491, 41)"
            ]
          },
          "metadata": {},
          "execution_count": 90
        }
      ],
      "source": [
        "X_fs.shape"
      ]
    },
    {
      "cell_type": "code",
      "execution_count": null,
      "metadata": {
        "colab": {
          "base_uri": "https://localhost:8080/"
        },
        "id": "rodhjPp2M3ox",
        "outputId": "48014dba-c5c4-4f9a-f33a-67a4470b0b9e"
      },
      "outputs": [
        {
          "output_type": "execute_result",
          "data": {
            "text/plain": [
              "array([[-1.2401089 , -0.88990682, -0.06764938, ..., -0.03074636,\n",
              "        -0.18732401, -0.13331258],\n",
              "       [-1.26036173, -0.88990682, -0.066726  , ..., -0.03998857,\n",
              "        -0.18732375, -0.1333108 ],\n",
              "       [-0.61471421, -0.87351978, -0.067623  , ..., -0.04007918,\n",
              "        -0.0303953 ,  0.04738893],\n",
              "       ...,\n",
              "       [-1.26036173, -0.88990682, -0.06733279, ...,  1.50382445,\n",
              "        -0.18732401, -0.13331258],\n",
              "       [-1.2401089 , -0.88990682, -0.06796597, ..., -0.03609234,\n",
              "        -0.18732401, -0.13331258],\n",
              "       [-1.25460898, -0.86789119, -0.06796597, ..., -0.03745149,\n",
              "        -0.18732401, -0.13331258]])"
            ]
          },
          "metadata": {},
          "execution_count": 91
        }
      ],
      "source": [
        "X_fs"
      ]
    },
    {
      "cell_type": "markdown",
      "metadata": {
        "id": "CDvM6xs1M3ox"
      },
      "source": [
        "#### Feature selection by Fast Correlation Based Filter (FCBF)\n"
      ]
    },
    {
      "cell_type": "code",
      "execution_count": null,
      "metadata": {
        "collapsed": true,
        "id": "64-Pq6U4M3ox"
      },
      "outputs": [],
      "source": [
        "from FCBF_module import FCBF, FCBFK, FCBFiP, get_i\n",
        "fcbf = FCBFK(k = 20)\n",
        "#fcbf.fit(X_fs, y)"
      ]
    },
    {
      "cell_type": "code",
      "execution_count": null,
      "metadata": {
        "id": "pBTslKLLM3oy"
      },
      "outputs": [],
      "source": [
        "X_fss = fcbf.fit_transform(X_fs,y)"
      ]
    },
    {
      "cell_type": "code",
      "execution_count": null,
      "metadata": {
        "colab": {
          "base_uri": "https://localhost:8080/"
        },
        "id": "1tzEOmHmM3oy",
        "outputId": "8c6f5005-764d-4e04-bf3b-5cc564448430"
      },
      "outputs": [
        {
          "output_type": "execute_result",
          "data": {
            "text/plain": [
              "(4491, 20)"
            ]
          },
          "metadata": {},
          "execution_count": 94
        }
      ],
      "source": [
        "X_fss.shape"
      ]
    },
    {
      "cell_type": "code",
      "execution_count": null,
      "metadata": {
        "colab": {
          "base_uri": "https://localhost:8080/"
        },
        "id": "7EuYiwZ0M3oy",
        "outputId": "35e60f6b-9650-4b1a-be8e-ff93a3d2a588"
      },
      "outputs": [
        {
          "output_type": "execute_result",
          "data": {
            "text/plain": [
              "array([[ 0.81540791,  0.81449068, -0.22569588, ..., -0.07194556,\n",
              "        -0.23398975, -0.1482151 ],\n",
              "       [ 8.46257766,  8.46017723,  7.09900009, ..., -0.05893037,\n",
              "         0.0811276 , -0.13442586],\n",
              "       [-0.3036901 , -0.30439027, -0.22569588, ..., -0.0263924 ,\n",
              "         5.16275652,  0.66837508],\n",
              "       ...,\n",
              "       [ 8.64909399,  8.64665739,  3.36191031, ..., -0.06543796,\n",
              "        -0.01843716, -0.14483814],\n",
              "       [-0.3036901 , -0.30439027, -0.22569588, ..., -0.07194556,\n",
              "        -0.26478298, -0.1482151 ],\n",
              "       [-0.3036901 , -0.30439027, -0.22569588, ..., -0.06543796,\n",
              "        -0.26478298, -0.1482151 ]])"
            ]
          },
          "metadata": {},
          "execution_count": 95
        }
      ],
      "source": [
        "X_fss"
      ]
    },
    {
      "cell_type": "markdown",
      "metadata": {
        "id": "N4NvI-U5M3oy"
      },
      "source": [
        "####  kernel principal component analysis (KPCA)"
      ]
    },
    {
      "cell_type": "code",
      "execution_count": null,
      "metadata": {
        "id": "8alDbtrwM3oy"
      },
      "outputs": [],
      "source": [
        "from sklearn.decomposition import KernelPCA\n",
        "kpca = KernelPCA(n_components = 10, kernel = 'rbf')\n",
        "kpca.fit(X_fss, y)\n",
        "X_kpca = kpca.transform(X_fss)\n",
        "\n",
        "# from sklearn.decomposition import PCA\n",
        "# kpca = PCA(n_components = 10)\n",
        "# kpca.fit(X_fss, y)\n",
        "# X_kpca = kpca.transform(X_fss)"
      ]
    },
    {
      "cell_type": "markdown",
      "metadata": {
        "id": "xZb6OCrNM3oz"
      },
      "source": [
        "### Train-test split after feature selection"
      ]
    },
    {
      "cell_type": "code",
      "execution_count": null,
      "metadata": {
        "collapsed": true,
        "id": "NV4_mTKkM3oz"
      },
      "outputs": [],
      "source": [
        "X_train = X_kpca[:len(df1)]\n",
        "y_train = y[:len(df1)]\n",
        "X_test = X_kpca[len(df1):]\n",
        "y_test = y[len(df1):]"
      ]
    },
    {
      "cell_type": "markdown",
      "metadata": {
        "id": "qllkDwgGM3oz"
      },
      "source": [
        "### Solve class-imbalance by SMOTE"
      ]
    },
    {
      "cell_type": "code",
      "execution_count": null,
      "metadata": {
        "colab": {
          "base_uri": "https://localhost:8080/"
        },
        "id": "O1pmt88fM3oz",
        "outputId": "7da3c74c-e52d-4e9a-ccd8-9a97fedfe67b"
      },
      "outputs": [
        {
          "output_type": "execute_result",
          "data": {
            "text/plain": [
              "1    4307\n",
              "0     115\n",
              "dtype: int64"
            ]
          },
          "metadata": {},
          "execution_count": 98
        }
      ],
      "source": [
        "pd.Series(y_train).value_counts()"
      ]
    },
    {
      "cell_type": "code",
      "execution_count": null,
      "metadata": {
        "id": "_gbHXwfJM3o0"
      },
      "outputs": [],
      "source": [
        "from imblearn.over_sampling import SMOTE\n",
        "smote=SMOTE(n_jobs=-1,sampling_strategy={1:18225})\n",
        "X_train, y_train = smote.fit_resample(X_train, y_train)"
      ]
    },
    {
      "cell_type": "code",
      "execution_count": null,
      "metadata": {
        "colab": {
          "base_uri": "https://localhost:8080/"
        },
        "id": "gxaMeLLDM3o0",
        "outputId": "0538abe0-464a-434f-d199-c17c801f7333"
      },
      "outputs": [
        {
          "output_type": "execute_result",
          "data": {
            "text/plain": [
              "1    18225\n",
              "0      115\n",
              "dtype: int64"
            ]
          },
          "metadata": {},
          "execution_count": 100
        }
      ],
      "source": [
        "pd.Series(y_train).value_counts()"
      ]
    },
    {
      "cell_type": "code",
      "execution_count": null,
      "metadata": {
        "colab": {
          "base_uri": "https://localhost:8080/"
        },
        "id": "AOdl2Px9M3o0",
        "outputId": "2e632bfb-8ce4-45df-a563-f75ebde546e8"
      },
      "outputs": [
        {
          "output_type": "execute_result",
          "data": {
            "text/plain": [
              "1    61\n",
              "0     8\n",
              "dtype: int64"
            ]
          },
          "metadata": {},
          "execution_count": 101
        }
      ],
      "source": [
        "pd.Series(y_test).value_counts()"
      ]
    },
    {
      "cell_type": "markdown",
      "metadata": {
        "id": "Tg8ZVOlwM3o0"
      },
      "source": [
        "### Apply the cluster labeling (CL) k-means method"
      ]
    },
    {
      "cell_type": "code",
      "execution_count": null,
      "metadata": {
        "collapsed": true,
        "id": "cda4KOTXM3o1"
      },
      "outputs": [],
      "source": [
        "from sklearn.cluster import KMeans\n",
        "from sklearn.cluster import DBSCAN,MeanShift\n",
        "from sklearn.cluster import SpectralClustering,AgglomerativeClustering,AffinityPropagation,Birch,MiniBatchKMeans,MeanShift \n",
        "from sklearn.mixture import GaussianMixture, BayesianGaussianMixture\n",
        "from sklearn.metrics import classification_report\n",
        "from sklearn import metrics"
      ]
    },
    {
      "cell_type": "code",
      "execution_count": null,
      "metadata": {
        "collapsed": true,
        "id": "6UUVDvJDM3o1"
      },
      "outputs": [],
      "source": [
        "def CL_kmeans(X_train, X_test, y_train, y_test,n,b=100):\n",
        "    km_cluster = MiniBatchKMeans(n_clusters=n,batch_size=b)\n",
        "    result = km_cluster.fit_predict(X_train)\n",
        "    result2 = km_cluster.predict(X_test)\n",
        "\n",
        "    count=0\n",
        "    a=np.zeros(n)\n",
        "    b=np.zeros(n)\n",
        "    for v in range(0,n):\n",
        "        for i in range(0,len(y_train)):\n",
        "            if result[i]==v:\n",
        "                if y_train[i]==1:\n",
        "                    a[v]=a[v]+1\n",
        "                else:\n",
        "                    b[v]=b[v]+1\n",
        "    list1=[]\n",
        "    list2=[]\n",
        "    for v in range(0,n):\n",
        "        if a[v]<=b[v]:\n",
        "            list1.append(v)\n",
        "        else: \n",
        "            list2.append(v)\n",
        "    for v in range(0,len(y_test)):\n",
        "        if result2[v] in list1:\n",
        "            result2[v]=0\n",
        "        elif result2[v] in list2:\n",
        "            result2[v]=1\n",
        "        else:\n",
        "            print(\"-1\")\n",
        "    print(classification_report(y_test, result2))\n",
        "    cm=confusion_matrix(y_test,result2)\n",
        "    acc=metrics.accuracy_score(y_test,result2)\n",
        "    print(str(acc))\n",
        "    print(cm)"
      ]
    },
    {
      "cell_type": "code",
      "execution_count": null,
      "metadata": {
        "colab": {
          "base_uri": "https://localhost:8080/"
        },
        "id": "8fyZsQNPM3o1",
        "outputId": "91ebfcda-35f0-466b-d3d2-95a001fcf7c6"
      },
      "outputs": [
        {
          "output_type": "stream",
          "name": "stdout",
          "text": [
            "              precision    recall  f1-score   support\n",
            "\n",
            "           0       0.00      0.00      0.00         8\n",
            "           1       0.88      1.00      0.94        61\n",
            "\n",
            "    accuracy                           0.88        69\n",
            "   macro avg       0.44      0.50      0.47        69\n",
            "weighted avg       0.78      0.88      0.83        69\n",
            "\n",
            "0.8840579710144928\n",
            "[[ 0  8]\n",
            " [ 0 61]]\n"
          ]
        }
      ],
      "source": [
        "CL_kmeans(X_train, X_test, y_train, y_test, 8)"
      ]
    },
    {
      "cell_type": "markdown",
      "metadata": {
        "id": "xZ18BSYZM3o1"
      },
      "source": [
        "### Hyperparameter optimization of CL-k-means\n",
        "Tune \"k\""
      ]
    },
    {
      "cell_type": "code",
      "source": [
        "!pip install scikit_optimize"
      ],
      "metadata": {
        "colab": {
          "base_uri": "https://localhost:8080/"
        },
        "id": "85YrG9jrWwhQ",
        "outputId": "2496f6ac-a23b-4ca6-9708-ab492f655a18"
      },
      "execution_count": null,
      "outputs": [
        {
          "output_type": "stream",
          "name": "stdout",
          "text": [
            "Looking in indexes: https://pypi.org/simple, https://us-python.pkg.dev/colab-wheels/public/simple/\n",
            "Collecting scikit_optimize\n",
            "  Downloading scikit_optimize-0.9.0-py2.py3-none-any.whl (100 kB)\n",
            "\u001b[K     |████████████████████████████████| 100 kB 5.5 MB/s \n",
            "\u001b[?25hRequirement already satisfied: scikit-learn>=0.20.0 in /usr/local/lib/python3.8/dist-packages (from scikit_optimize) (1.0.2)\n",
            "Requirement already satisfied: scipy>=0.19.1 in /usr/local/lib/python3.8/dist-packages (from scikit_optimize) (1.7.3)\n",
            "Requirement already satisfied: joblib>=0.11 in /usr/local/lib/python3.8/dist-packages (from scikit_optimize) (1.2.0)\n",
            "Collecting pyaml>=16.9\n",
            "  Downloading pyaml-21.10.1-py2.py3-none-any.whl (24 kB)\n",
            "Requirement already satisfied: numpy>=1.13.3 in /usr/local/lib/python3.8/dist-packages (from scikit_optimize) (1.21.6)\n",
            "Requirement already satisfied: PyYAML in /usr/local/lib/python3.8/dist-packages (from pyaml>=16.9->scikit_optimize) (6.0)\n",
            "Requirement already satisfied: threadpoolctl>=2.0.0 in /usr/local/lib/python3.8/dist-packages (from scikit-learn>=0.20.0->scikit_optimize) (3.1.0)\n",
            "Installing collected packages: pyaml, scikit-optimize\n",
            "Successfully installed pyaml-21.10.1 scikit-optimize-0.9.0\n"
          ]
        }
      ]
    },
    {
      "cell_type": "code",
      "execution_count": null,
      "metadata": {
        "scrolled": true,
        "colab": {
          "base_uri": "https://localhost:8080/"
        },
        "id": "aXkKrbuUM3o1",
        "outputId": "e1421490-1653-464c-92b4-5e0aa00a4f54"
      },
      "outputs": [
        {
          "output_type": "stream",
          "name": "stdout",
          "text": [
            "30 0.8840579710144928\n",
            "43 0.8840579710144928\n",
            "43 0.9420289855072463\n",
            "43 0.8985507246376812\n",
            "32 0.8840579710144928\n",
            "20 0.8840579710144928\n",
            "16 0.8840579710144928\n",
            "5 0.8840579710144928\n",
            "15 0.8840579710144928\n",
            "25 0.8840579710144928\n",
            "50 0.8985507246376812\n",
            "50 0.9420289855072463\n",
            "50 0.8985507246376812\n",
            "2 0.8840579710144928\n",
            "50 0.8985507246376812\n",
            "50 0.927536231884058\n",
            "50 0.9420289855072463\n",
            "50 0.927536231884058\n",
            "50 0.8840579710144928\n",
            "2 0.8840579710144928\n",
            "53.107017040252686\n",
            "Best score=0.9420\n",
            "Best parameters: n_clusters=43\n"
          ]
        }
      ],
      "source": [
        "#Hyperparameter optimization by BO-GP\n",
        "from skopt.space import Real, Integer\n",
        "from skopt.utils import use_named_args\n",
        "from sklearn import metrics\n",
        "\n",
        "space  = [Integer(2, 50, name='n_clusters')]\n",
        "@use_named_args(space)\n",
        "def objective(**params):\n",
        "    km_cluster = MiniBatchKMeans(batch_size=100, **params)\n",
        "    n=params['n_clusters']\n",
        "    \n",
        "    result = km_cluster.fit_predict(X_train)\n",
        "    result2 = km_cluster.predict(X_test)\n",
        "\n",
        "    count=0\n",
        "    a=np.zeros(n)\n",
        "    b=np.zeros(n)\n",
        "    for v in range(0,n):\n",
        "        for i in range(0,len(y_train)):\n",
        "            if result[i]==v:\n",
        "                if y_train[i]==1:\n",
        "                    a[v]=a[v]+1\n",
        "                else:\n",
        "                    b[v]=b[v]+1\n",
        "    list1=[]\n",
        "    list2=[]\n",
        "    for v in range(0,n):\n",
        "        if a[v]<=b[v]:\n",
        "            list1.append(v)\n",
        "        else: \n",
        "            list2.append(v)\n",
        "    for v in range(0,len(y_test)):\n",
        "        if result2[v] in list1:\n",
        "            result2[v]=0\n",
        "        elif result2[v] in list2:\n",
        "            result2[v]=1\n",
        "        else:\n",
        "            print(\"-1\")\n",
        "    cm=metrics.accuracy_score(y_test,result2)\n",
        "    print(str(n)+\" \"+str(cm))\n",
        "    return (1-cm)\n",
        "from skopt import gp_minimize\n",
        "import time\n",
        "t1=time.time()\n",
        "res_gp = gp_minimize(objective, space, n_calls=20, random_state=0)\n",
        "t2=time.time()\n",
        "print(t2-t1)\n",
        "print(\"Best score=%.4f\" % (1-res_gp.fun))\n",
        "print(\"\"\"Best parameters: n_clusters=%d\"\"\" % (res_gp.x[0]))"
      ]
    },
    {
      "cell_type": "code",
      "execution_count": null,
      "metadata": {
        "colab": {
          "base_uri": "https://localhost:8080/"
        },
        "id": "Px7Uk_rFM3o2",
        "outputId": "0a69e384-aa18-4f8f-e2ee-ac29ff487f74"
      },
      "outputs": [
        {
          "output_type": "stream",
          "name": "stdout",
          "text": [
            "13 0.8840579710144928\n",
            "15 0.8840579710144928\n",
            "36 0.9420289855072463\n",
            "28 0.927536231884058\n",
            "21 0.8840579710144928\n",
            "24 0.8840579710144928\n",
            "38 0.8840579710144928\n",
            "46 0.8840579710144928\n",
            "9 0.8840579710144928\n",
            "36 0.927536231884058\n",
            "37 0.8840579710144928\n",
            "47 0.9420289855072463\n",
            "31 0.8840579710144928\n",
            "35 0.8840579710144928\n",
            "20 0.8840579710144928\n",
            "50 0.8840579710144928\n",
            "24 0.8840579710144928\n",
            "3 0.8840579710144928\n",
            "6 0.8840579710144928\n",
            "39 0.8840579710144928\n",
            "100%|██████████| 20/20 [00:40<00:00,  2.01s/it, best loss: 0.05797101449275366]\n",
            "Random Forest: Hyperopt estimated optimum {'n_clusters': 36.0}\n"
          ]
        }
      ],
      "source": [
        "#Hyperparameter optimization by BO-TPE\n",
        "from hyperopt import hp, fmin, tpe, STATUS_OK, Trials\n",
        "from sklearn.model_selection import cross_val_score, StratifiedKFold\n",
        "from sklearn.cluster import MiniBatchKMeans\n",
        "from sklearn import metrics\n",
        "\n",
        "def objective(params):\n",
        "    params = {\n",
        "        'n_clusters': int(params['n_clusters']), \n",
        "    }\n",
        "    km_cluster = MiniBatchKMeans(batch_size=100, **params)\n",
        "    n=params['n_clusters']\n",
        "    \n",
        "    result = km_cluster.fit_predict(X_train)\n",
        "    result2 = km_cluster.predict(X_test)\n",
        "\n",
        "    count=0\n",
        "    a=np.zeros(n)\n",
        "    b=np.zeros(n)\n",
        "    for v in range(0,n):\n",
        "        for i in range(0,len(y_train)):\n",
        "            if result[i]==v:\n",
        "                if y_train[i]==1:\n",
        "                    a[v]=a[v]+1\n",
        "                else:\n",
        "                    b[v]=b[v]+1\n",
        "    list1=[]\n",
        "    list2=[]\n",
        "    for v in range(0,n):\n",
        "        if a[v]<=b[v]:\n",
        "            list1.append(v)\n",
        "        else: \n",
        "            list2.append(v)\n",
        "    for v in range(0,len(y_test)):\n",
        "        if result2[v] in list1:\n",
        "            result2[v]=0\n",
        "        elif result2[v] in list2:\n",
        "            result2[v]=1\n",
        "        else:\n",
        "            print(\"-1\")\n",
        "    score=metrics.accuracy_score(y_test,result2)\n",
        "    print(str(params['n_clusters'])+\" \"+str(score))\n",
        "    return {'loss':1-score, 'status': STATUS_OK }\n",
        "space = {\n",
        "    'n_clusters': hp.quniform('n_clusters', 2, 50, 1),\n",
        "}\n",
        "\n",
        "best = fmin(fn=objective,\n",
        "            space=space,\n",
        "            algo=tpe.suggest,\n",
        "            max_evals=20)\n",
        "print(\"Random Forest: Hyperopt estimated optimum {}\".format(best))"
      ]
    },
    {
      "cell_type": "code",
      "execution_count": null,
      "metadata": {
        "colab": {
          "base_uri": "https://localhost:8080/"
        },
        "id": "phqY-tnxM3o2",
        "outputId": "8815fc15-a4b2-4941-de1c-65c6f68e6be5"
      },
      "outputs": [
        {
          "output_type": "stream",
          "name": "stdout",
          "text": [
            "              precision    recall  f1-score   support\n",
            "\n",
            "           0       0.00      0.00      0.00         8\n",
            "           1       0.88      1.00      0.94        61\n",
            "\n",
            "    accuracy                           0.88        69\n",
            "   macro avg       0.44      0.50      0.47        69\n",
            "weighted avg       0.78      0.88      0.83        69\n",
            "\n",
            "0.8840579710144928\n",
            "[[ 0  8]\n",
            " [ 0 61]]\n"
          ]
        }
      ],
      "source": [
        "CL_kmeans(X_train, X_test, y_train, y_test, 16)"
      ]
    }
  ],
  "metadata": {
    "anaconda-cloud": {},
    "kernelspec": {
      "display_name": "Python 3",
      "language": "python",
      "name": "python3"
    },
    "language_info": {
      "codemirror_mode": {
        "name": "ipython",
        "version": 3
      },
      "file_extension": ".py",
      "mimetype": "text/x-python",
      "name": "python",
      "nbconvert_exporter": "python",
      "pygments_lexer": "ipython3",
      "version": "3.6.8"
    },
    "colab": {
      "provenance": [],
      "toc_visible": true
    }
  },
  "nbformat": 4,
  "nbformat_minor": 0
}